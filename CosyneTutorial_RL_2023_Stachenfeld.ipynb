{
  "nbformat": 4,
  "nbformat_minor": 0,
  "metadata": {
    "colab": {
      "provenance": [],
      "include_colab_link": true
    },
    "kernelspec": {
      "display_name": "Python 3",
      "name": "python3"
    },
    "accelerator": "GPU",
    "gpuClass": "standard"
  },
  "cells": [
    {
      "cell_type": "markdown",
      "metadata": {
        "id": "view-in-github",
        "colab_type": "text"
      },
      "source": [
        "<a href=\"https://colab.research.google.com/github/NunezKant/RL_Kim_DeepMind/blob/main/CosyneTutorial_RL_2023_Stachenfeld.ipynb\" target=\"_parent\"><img src=\"https://colab.research.google.com/assets/colab-badge.svg\" alt=\"Open In Colab\"/></a>"
      ]
    },
    {
      "cell_type": "markdown",
      "metadata": {
        "id": "WTrxtDu6SN2H"
      },
      "source": [
        "# Reinforcement Learning\n",
        "## CoSyNe Tutorial\n",
        "### 9 March 2023\n",
        "\n",
        "__Modified by:__ Kim Stachenfeld\n",
        "\n",
        "__Content creators:__  Feryal Behbahani, Jane Wang, Diana Borsa, Gheorghe Comanici, Matthew Sargent, Anoop Kulkarni, Sowmya Parthiban\n",
        "\n",
        "__Note:__  If you are not using Chrome as your Browser, images might not load (otherwise everything seems to be fine)."
      ]
    },
    {
      "cell_type": "markdown",
      "source": [
        "### Outline\n",
        "* __Section 1:__ Setup\n",
        "* __Section 2:__ General Formulation of RL\n",
        "* __Section 3:__ The Bellman Equation\n",
        "* __Section 4:__ Policy Evaluation\n",
        "* __Section 5:__ Tabular Value-Based Model-Free Learning\n",
        "* __Section 6:__ Function Approximation\n",
        "* __Section 7:__ DQN"
      ],
      "metadata": {
        "id": "N4Oj4R4IIhIu"
      }
    },
    {
      "cell_type": "markdown",
      "metadata": {
        "id": "0QOShNbUet-3"
      },
      "source": [
        "# Section 1: Setup"
      ]
    },
    {
      "cell_type": "code",
      "metadata": {
        "colab": {
          "base_uri": "https://localhost:8080/"
        },
        "id": "HJ74Id-8MERq",
        "outputId": "04295db3-b65f-4b1b-f63c-8ff15489ed83",
        "cellView": "form"
      },
      "source": [
        "#@title Install requirements\n",
        "\n",
        "!pip install einops --quiet\n",
        "!pip install dm-acme --quiet\n",
        "!pip install dm-acme[reverb] --quiet\n",
        "!pip install dm-acme[tf] --quiet\n",
        "!pip install dm-acme[envs] --quiet\n",
        "!pip install dm-env --quiet\n",
        "!sudo apt-get install -y xvfb ffmpeg --quiet\n",
        "!pip install imageio --quiet\n",
        "!pip install imageio-ffmpeg --quiet\n",
        "\n",
        "# Import modules\n",
        "\n",
        "import IPython\n",
        "from typing import Callable, Optional, Sequence\n",
        "\n",
        "import gym\n",
        "import enum\n",
        "import time\n",
        "import acme\n",
        "import torch\n",
        "import base64\n",
        "import dm_env\n",
        "import random\n",
        "import imageio\n",
        "import warnings\n",
        "import itertools\n",
        "import collections\n",
        "\n",
        "import numpy as np\n",
        "import pandas as pd\n",
        "import sonnet as snt\n",
        "import torch.nn as nn\n",
        "import matplotlib.pyplot as plt\n",
        "import tensorflow.compat.v2 as tf\n",
        "\n",
        "from acme import environment_loop\n",
        "from acme import specs\n",
        "from acme import wrappers\n",
        "from acme.utils import tree_utils\n",
        "from acme.utils import loggers\n",
        "\n",
        "tf.enable_v2_behavior()\n",
        "warnings.filterwarnings('ignore')\n",
        "np.set_printoptions(precision=3, suppress=1)"
      ],
      "execution_count": null,
      "outputs": [
        {
          "output_type": "stream",
          "name": "stdout",
          "text": [
            "\u001b[2K     \u001b[90m━━━━━━━━━━━━━━━━━━━━━━━━━━━━━━━━━━━━━━━━\u001b[0m \u001b[32m41.6/41.6 KB\u001b[0m \u001b[31m1.5 MB/s\u001b[0m eta \u001b[36m0:00:00\u001b[0m\n",
            "\u001b[2K     \u001b[90m━━━━━━━━━━━━━━━━━━━━━━━━━━━━━━━━━━━━━━\u001b[0m \u001b[32m314.1/314.1 KB\u001b[0m \u001b[31m14.5 MB/s\u001b[0m eta \u001b[36m0:00:00\u001b[0m\n",
            "\u001b[?25h  Preparing metadata (setup.py) ... \u001b[?25l\u001b[?25hdone\n",
            "\u001b[2K     \u001b[90m━━━━━━━━━━━━━━━━━━━━━━━━━━━━━━━━━━━━━━━━\u001b[0m \u001b[32m3.8/3.8 MB\u001b[0m \u001b[31m34.9 MB/s\u001b[0m eta \u001b[36m0:00:00\u001b[0m\n",
            "\u001b[?25h  Building wheel for dm-acme (setup.py) ... \u001b[?25l\u001b[?25hdone\n",
            "\u001b[33mWARNING: dm-acme 0.4.0 does not provide the extra 'reverb'\u001b[0m\u001b[33m\n",
            "\u001b[2K     \u001b[90m━━━━━━━━━━━━━━━━━━━━━━━━━━━━━━━━━━━━━━\u001b[0m \u001b[32m104.3/104.3 KB\u001b[0m \u001b[31m10.1 MB/s\u001b[0m eta \u001b[36m0:00:00\u001b[0m\n",
            "\u001b[2K     \u001b[90m━━━━━━━━━━━━━━━━━━━━━━━━━━━━━━━━━━━━━━\u001b[0m \u001b[32m462.3/462.3 KB\u001b[0m \u001b[31m37.3 MB/s\u001b[0m eta \u001b[36m0:00:00\u001b[0m\n",
            "\u001b[2K     \u001b[90m━━━━━━━━━━━━━━━━━━━━━━━━━━━━━━━━━━━━━━━━\u001b[0m \u001b[32m4.0/4.0 MB\u001b[0m \u001b[31m87.2 MB/s\u001b[0m eta \u001b[36m0:00:00\u001b[0m\n",
            "\u001b[2K     \u001b[90m━━━━━━━━━━━━━━━━━━━━━━━━━━━━━━━━━━━━━━━\u001b[0m \u001b[32m497.6/497.6 MB\u001b[0m \u001b[31m2.9 MB/s\u001b[0m eta \u001b[36m0:00:00\u001b[0m\n",
            "\u001b[2K     \u001b[90m━━━━━━━━━━━━━━━━━━━━━━━━━━━━━━━━━━━━━━━━\u001b[0m \u001b[32m5.7/5.7 MB\u001b[0m \u001b[31m61.3 MB/s\u001b[0m eta \u001b[36m0:00:00\u001b[0m\n",
            "\u001b[2K     \u001b[90m━━━━━━━━━━━━━━━━━━━━━━━━━━━━━━━━━━━━━━━━\u001b[0m \u001b[32m1.4/1.4 MB\u001b[0m \u001b[31m21.5 MB/s\u001b[0m eta \u001b[36m0:00:00\u001b[0m\n",
            "\u001b[2K     \u001b[90m━━━━━━━━━━━━━━━━━━━━━━━━━━━━━━━━━━━━━━\u001b[0m \u001b[32m268.4/268.4 KB\u001b[0m \u001b[31m26.2 MB/s\u001b[0m eta \u001b[36m0:00:00\u001b[0m\n",
            "\u001b[2K     \u001b[90m━━━━━━━━━━━━━━━━━━━━━━━━━━━━━━━━━━━━━━━━\u001b[0m \u001b[32m6.4/6.4 MB\u001b[0m \u001b[31m17.5 MB/s\u001b[0m eta \u001b[36m0:00:00\u001b[0m\n",
            "\u001b[2K     \u001b[90m━━━━━━━━━━━━━━━━━━━━━━━━━━━━━━━━━━━━━━\u001b[0m \u001b[32m462.5/462.5 KB\u001b[0m \u001b[31m43.2 MB/s\u001b[0m eta \u001b[36m0:00:00\u001b[0m\n",
            "\u001b[2K     \u001b[90m━━━━━━━━━━━━━━━━━━━━━━━━━━━━━━━━━━━━━━━━\u001b[0m \u001b[32m5.8/5.8 MB\u001b[0m \u001b[31m31.7 MB/s\u001b[0m eta \u001b[36m0:00:00\u001b[0m\n",
            "\u001b[2K     \u001b[90m━━━━━━━━━━━━━━━━━━━━━━━━━━━━━━━━━━━━━━━━\u001b[0m \u001b[32m42.6/42.6 KB\u001b[0m \u001b[31m2.9 MB/s\u001b[0m eta \u001b[36m0:00:00\u001b[0m\n",
            "\u001b[2K     \u001b[90m━━━━━━━━━━━━━━━━━━━━━━━━━━━━━━━━━━━━━━\u001b[0m \u001b[32m110.5/110.5 KB\u001b[0m \u001b[31m12.1 MB/s\u001b[0m eta \u001b[36m0:00:00\u001b[0m\n",
            "\u001b[2K     \u001b[90m━━━━━━━━━━━━━━━━━━━━━━━━━━━━━━━━━━━━━━━\u001b[0m \u001b[32m89.0/89.0 KB\u001b[0m \u001b[31m422.7 kB/s\u001b[0m eta \u001b[36m0:00:00\u001b[0m\n",
            "\u001b[?25h  Preparing metadata (setup.py) ... \u001b[?25l\u001b[?25hdone\n",
            "\u001b[2K     \u001b[90m━━━━━━━━━━━━━━━━━━━━━━━━━━━━━━━━━━━━━━━━\u001b[0m \u001b[32m2.8/2.8 MB\u001b[0m \u001b[31m30.8 MB/s\u001b[0m eta \u001b[36m0:00:00\u001b[0m\n",
            "\u001b[2K     \u001b[90m━━━━━━━━━━━━━━━━━━━━━━━━━━━━━━━━━━━━━━━━\u001b[0m \u001b[32m18.8/18.8 MB\u001b[0m \u001b[31m68.5 MB/s\u001b[0m eta \u001b[36m0:00:00\u001b[0m\n",
            "\u001b[2K     \u001b[90m━━━━━━━━━━━━━━━━━━━━━━━━━━━━━━━━━━━━━━\u001b[0m \u001b[32m207.6/207.6 KB\u001b[0m \u001b[31m24.1 MB/s\u001b[0m eta \u001b[36m0:00:00\u001b[0m\n",
            "\u001b[2K     \u001b[90m━━━━━━━━━━━━━━━━━━━━━━━━━━━━━━━━━━━━━━━━\u001b[0m \u001b[32m4.9/4.9 MB\u001b[0m \u001b[31m51.1 MB/s\u001b[0m eta \u001b[36m0:00:00\u001b[0m\n",
            "\u001b[2K     \u001b[90m━━━━━━━━━━━━━━━━━━━━━━━━━━━━━━━━━━━━━━\u001b[0m \u001b[32m112.8/112.8 KB\u001b[0m \u001b[31m12.7 MB/s\u001b[0m eta \u001b[36m0:00:00\u001b[0m\n",
            "\u001b[2K     \u001b[90m━━━━━━━━━━━━━━━━━━━━━━━━━━━━━━━━━━━━━━━━\u001b[0m \u001b[32m1.6/1.6 MB\u001b[0m \u001b[31m63.4 MB/s\u001b[0m eta \u001b[36m0:00:00\u001b[0m\n",
            "\u001b[?25h  Building wheel for bsuite (setup.py) ... \u001b[?25l\u001b[?25hdone\n",
            "Reading package lists...\n",
            "Building dependency tree...\n",
            "Reading state information...\n",
            "ffmpeg is already the newest version (7:4.2.7-0ubuntu0.1).\n",
            "The following NEW packages will be installed:\n",
            "  xvfb\n",
            "0 upgraded, 1 newly installed, 0 to remove and 22 not upgraded.\n",
            "Need to get 780 kB of archives.\n",
            "After this operation, 2,271 kB of additional disk space will be used.\n",
            "Get:1 http://archive.ubuntu.com/ubuntu focal-updates/universe amd64 xvfb amd64 2:1.20.13-1ubuntu1~20.04.6 [780 kB]\n",
            "Fetched 780 kB in 2s (442 kB/s)\n",
            "debconf: unable to initialize frontend: Dialog\n",
            "debconf: (No usable dialog-like program is installed, so the dialog based frontend cannot be used. at /usr/share/perl5/Debconf/FrontEnd/Dialog.pm line 76, <> line 1.)\n",
            "debconf: falling back to frontend: Readline\n",
            "debconf: unable to initialize frontend: Readline\n",
            "debconf: (This frontend requires a controlling tty.)\n",
            "debconf: falling back to frontend: Teletype\n",
            "dpkg-preconfigure: unable to re-open stdin: \n",
            "Selecting previously unselected package xvfb.\n",
            "(Reading database ... 128275 files and directories currently installed.)\n",
            "Preparing to unpack .../xvfb_2%3a1.20.13-1ubuntu1~20.04.6_amd64.deb ...\n",
            "Unpacking xvfb (2:1.20.13-1ubuntu1~20.04.6) ...\n",
            "Setting up xvfb (2:1.20.13-1ubuntu1~20.04.6) ...\n",
            "Processing triggers for man-db (2.9.1-1) ...\n",
            "\u001b[2K     \u001b[90m━━━━━━━━━━━━━━━━━━━━━━━━━━━━━━━━━━━━━━━━\u001b[0m \u001b[32m26.9/26.9 MB\u001b[0m \u001b[31m44.5 MB/s\u001b[0m eta \u001b[36m0:00:00\u001b[0m\n",
            "\u001b[?25h"
          ]
        }
      ]
    },
    {
      "cell_type": "code",
      "metadata": {
        "id": "WJFk4An8ebis",
        "cellView": "form"
      },
      "source": [
        "#@title Figure settings\n",
        "import ipywidgets as widgets       # interactive display\n",
        "%config InlineBackend.figure_format = 'retina'\n",
        "plt.style.use(\"https://raw.githubusercontent.com/NeuromatchAcademy/course-content/master/nma.mplstyle\")\n",
        "\n",
        "import warnings\n",
        "warnings.filterwarnings(\n",
        "    action=\"ignore\", message=\"This figure includes Axes\", category=UserWarning\n",
        "    )\n",
        "warnings.filterwarnings(\n",
        "    action=\"ignore\", message=\"Calculating RSM\", category=UserWarning\n",
        "    )"
      ],
      "execution_count": null,
      "outputs": []
    },
    {
      "cell_type": "code",
      "metadata": {
        "id": "-hdfv8hNKYlT",
        "cellView": "form"
      },
      "source": [
        "#@title Helper Functions\n",
        "#@markdown Implement helpers for value visualisation  { form-width: \"30%\" }\n",
        "\n",
        "map_from_action_to_subplot = lambda a: (2, 6, 8, 4)[a]\n",
        "map_from_action_to_name = lambda a: (\"up\", \"right\", \"down\", \"left\")[a]\n",
        "\n",
        "\n",
        "def plot_values(values, colormap='pink', vmin=-1, vmax=10):\n",
        "  plt.imshow(values, interpolation=\"nearest\", cmap=colormap, vmin=vmin, vmax=vmax)\n",
        "  plt.yticks([])\n",
        "  plt.xticks([])\n",
        "  plt.colorbar(ticks=[vmin, vmax])\n",
        "\n",
        "\n",
        "def plot_state_value(action_values, epsilon=0.1):\n",
        "  q = action_values\n",
        "  fig = plt.figure(figsize=(4, 4))\n",
        "  vmin = np.min(action_values)\n",
        "  vmax = np.max(action_values)\n",
        "  v = (1 - epsilon) * np.max(q, axis=-1) + epsilon * np.mean(q, axis=-1)\n",
        "  plot_values(v, colormap='summer', vmin=vmin, vmax=vmax)\n",
        "  plt.title(\"$v(s)$\")\n",
        "\n",
        "\n",
        "def plot_action_values(action_values, epsilon=0.1):\n",
        "  q = action_values\n",
        "  fig = plt.figure(figsize=(8, 8))\n",
        "  fig.subplots_adjust(wspace=0.3, hspace=0.3)\n",
        "  vmin = np.min(action_values)\n",
        "  vmax = np.max(action_values)\n",
        "  dif = vmax - vmin\n",
        "  for a in [0, 1, 2, 3]:\n",
        "    plt.subplot(3, 3, map_from_action_to_subplot(a))\n",
        "\n",
        "    plot_values(q[..., a], vmin=vmin - 0.05*dif, vmax=vmax + 0.05*dif)\n",
        "    action_name = map_from_action_to_name(a)\n",
        "    plt.title(r\"$q(s, \\mathrm{\" + action_name + r\"})$\")\n",
        "\n",
        "  plt.subplot(3, 3, 5)\n",
        "  v = (1 - epsilon) * np.max(q, axis=-1) + epsilon * np.mean(q, axis=-1)\n",
        "  plot_values(v, colormap='summer', vmin=vmin, vmax=vmax)\n",
        "  plt.title(\"$v(s)$\")\n",
        "\n",
        "\n",
        "def smooth(x, window=10):\n",
        "  return x[:window*(len(x)//window)].reshape(len(x)//window, window).mean(axis=1)\n",
        "\n",
        "\n",
        "def plot_stats(stats, window=10):\n",
        "  plt.figure(figsize=(16,4))\n",
        "  plt.subplot(121)\n",
        "  xline = range(0, len(stats.episode_lengths), window)\n",
        "  plt.plot(xline, smooth(stats.episode_lengths, window=window))\n",
        "  plt.ylabel('Episode Length')\n",
        "  plt.xlabel('Episode Count')\n",
        "  plt.subplot(122)\n",
        "  plt.plot(xline, smooth(stats.episode_rewards, window=window))\n",
        "  plt.ylabel('Episode Return')\n",
        "  plt.xlabel('Episode Count')"
      ],
      "execution_count": null,
      "outputs": []
    },
    {
      "cell_type": "code",
      "metadata": {
        "id": "NI_R4VbSefoi",
        "cellView": "form"
      },
      "source": [
        "#@title Set random seed.\n",
        "\n",
        "#@markdown Executing `set_seed(seed=seed)` you are setting the seed\n",
        "\n",
        "# for DL its critical to set the random seed so that students can have a\n",
        "# baseline to compare their results to expected results.\n",
        "# Read more here: https://pytorch.org/docs/stable/notes/randomness.html\n",
        "\n",
        "# Call `set_seed` function in the exercises to ensure reproducibility.\n",
        "import random\n",
        "\n",
        "def set_seed(seed=None, seed_torch=True):\n",
        "  if seed is None:\n",
        "    seed = np.random.choice(2 ** 32)\n",
        "  random.seed(seed)\n",
        "  np.random.seed(seed)\n",
        "  if seed_torch:\n",
        "    torch.manual_seed(seed)\n",
        "    torch.cuda.manual_seed_all(seed)\n",
        "    torch.cuda.manual_seed(seed)\n",
        "    torch.backends.cudnn.benchmark = False\n",
        "    torch.backends.cudnn.deterministic = True\n",
        "\n",
        "  print(f'Random seed {seed} has been set.')"
      ],
      "execution_count": null,
      "outputs": []
    },
    {
      "cell_type": "code",
      "metadata": {
        "colab": {
          "base_uri": "https://localhost:8080/"
        },
        "id": "XzK9YtHtehbW",
        "outputId": "ba9557d3-7a35-429e-e19e-b55e60a1fc9a",
        "cellView": "form"
      },
      "source": [
        "#@title Set device (GPU or CPU). Execute `set_device()`\n",
        "def set_device():\n",
        "  device = \"cuda\" if torch.cuda.is_available() else \"cpu\"\n",
        "  if device != \"cuda\":\n",
        "    print(\"WARNING: For this notebook to perform best, \"\n",
        "        \"if possible, in the menu under `Runtime` -> \"\n",
        "        \"`Change runtime type.`  select `GPU` \")\n",
        "  else:\n",
        "    print(\"GPU is enabled in this notebook.\")\n",
        "\n",
        "set_device()"
      ],
      "execution_count": null,
      "outputs": [
        {
          "output_type": "stream",
          "name": "stdout",
          "text": [
            "GPU is enabled in this notebook.\n"
          ]
        }
      ]
    },
    {
      "cell_type": "markdown",
      "metadata": {
        "id": "ysN2PQo3VzGt"
      },
      "source": [
        "#Section 2: General Formulation of RL Problems + Gridworlds\n"
      ]
    },
    {
      "cell_type": "markdown",
      "metadata": {
        "id": "kT8rkxTUAZzL"
      },
      "source": [
        "The agent interacts with the environment in a loop corresponding to the following diagram. The environment defines a set of <font color='blue'>**actions**</font>  that an agent can take.  The agent takes an action informed by the <font color='redorange'>**observations**</font> it receives, and will get a <font color='green'>**reward**</font> from the environment after each action. The goal in RL is to find an agent whose actions maximize the total accumulation of rewards obtained from the environment.\n",
        "\n",
        "\n",
        "<center><img src=\"https://drive.google.com/uc?id=1KktLm5mdWx1ORotxeYCq1WcQHkXzRT4F\" width=\"500\" /></center>\n",
        "\n",
        "\n"
      ]
    },
    {
      "cell_type": "markdown",
      "metadata": {
        "id": "I6KuVGSk4uc9"
      },
      "source": [
        "## Section 2.1: The Environment\n"
      ]
    },
    {
      "cell_type": "markdown",
      "metadata": {
        "id": "UhZwB__DPcyM"
      },
      "source": [
        "\n",
        "For this practical session we will focus on a **simple grid world** environment,which consists of a 9 x 10 grid of either wall or empty cells, depicted in black and white, respectively. The smiling agent starts from an initial location and needs to navigate to reach the goal square.\n",
        "\n",
        "<center>\n",
        "<img src=\"https://drive.google.com/uc?id=163QdCqrPybJVVO0NhDxpun5O0YZmCnsI\" width=\"500\" />\n",
        "</center>\n",
        "\n",
        "Below you will find an implementation of this Gridworld as a ```dm_env.Environment```\n",
        "\n",
        "\n"
      ]
    },
    {
      "cell_type": "code",
      "metadata": {
        "id": "inIAhwLKuHKr",
        "cellView": "form"
      },
      "source": [
        "#@title Implement GridWorld { form-width: \"30%\" }\n",
        "#@markdown double-click to inspect its contents\n",
        "\n",
        "class ObservationType(enum.IntEnum):\n",
        "  STATE_INDEX = enum.auto()\n",
        "  AGENT_ONEHOT = enum.auto()\n",
        "  GRID = enum.auto()\n",
        "  AGENT_GOAL_POS = enum.auto()\n",
        "\n",
        "\n",
        "class GridWorld(dm_env.Environment):\n",
        "\n",
        "  def __init__(self,\n",
        "               layout,\n",
        "               start_state,\n",
        "               goal_state=None,\n",
        "               observation_type=ObservationType.STATE_INDEX,\n",
        "               discount=0.9,\n",
        "               penalty_for_walls=-5,\n",
        "               reward_goal=10,\n",
        "               max_episode_length=None,\n",
        "               randomize_goals=False):\n",
        "    \"\"\"Build a grid environment.\n",
        "\n",
        "    Simple gridworld defined by a map layout, a start and a goal state.\n",
        "\n",
        "    Layout should be a NxN grid, containing:\n",
        "      * 0: empty\n",
        "      * -1: wall\n",
        "      * Any other positive value: value indicates reward; episode will terminate\n",
        "\n",
        "    Args:\n",
        "      layout: NxN array of numbers, indicating the layout of the environment.\n",
        "      start_state: Tuple (y, x) of starting location.\n",
        "      goal_state: Optional tuple (y, x) of goal location. Will be randomly\n",
        "        sampled once if None.\n",
        "      observation_type: Enum observation type to use. One of:\n",
        "        * ObservationType.STATE_INDEX: int32 index of agent occupied tile.\n",
        "        * ObservationType.AGENT_ONEHOT: NxN float32 grid, with a 1 where the\n",
        "          agent is and 0 elsewhere.\n",
        "        * ObservationType.GRID: NxNx3 float32 grid of feature channels.\n",
        "          First channel contains walls (1 if wall, 0 otherwise), second the\n",
        "          agent position (1 if agent, 0 otherwise) and third goal position\n",
        "          (1 if goal, 0 otherwise)\n",
        "        * ObservationType.AGENT_GOAL_POS: float32 tuple with\n",
        "          (agent_y, agent_x, goal_y, goal_x)\n",
        "      discount: Discounting factor included in all Timesteps.\n",
        "      penalty_for_walls: Reward added when hitting a wall (should be negative).\n",
        "      reward_goal: Reward added when finding the goal (should be positive).\n",
        "      max_episode_length: If set, will terminate an episode after this many\n",
        "        steps.\n",
        "      randomize_goals: If true, randomize goal at every episode.\n",
        "    \"\"\"\n",
        "    if observation_type not in ObservationType:\n",
        "      raise ValueError('observation_type should be a ObservationType instace.')\n",
        "    self._layout = np.array(layout)\n",
        "    self._start_state = start_state\n",
        "    self._state = self._start_state\n",
        "    self._number_of_states = np.prod(np.shape(self._layout))\n",
        "    self._discount = discount\n",
        "    self._penalty_for_walls = penalty_for_walls\n",
        "    self._reward_goal = reward_goal\n",
        "    self._observation_type = observation_type\n",
        "    self._layout_dims = self._layout.shape\n",
        "    self._max_episode_length = max_episode_length\n",
        "    self._num_episode_steps = 0\n",
        "    self._randomize_goals = randomize_goals\n",
        "    if goal_state is None:\n",
        "      # Randomly sample goal_state if not provided\n",
        "      goal_state = self._sample_goal()\n",
        "    self.goal_state = goal_state\n",
        "\n",
        "  def _sample_goal(self):\n",
        "    \"\"\"Randomly sample reachable non-starting state.\"\"\"\n",
        "    # Sample a new goal\n",
        "    n = 0\n",
        "    max_tries = 1e5\n",
        "    while n < max_tries:\n",
        "      goal_state = tuple(np.random.randint(d) for d in self._layout_dims)\n",
        "      if goal_state != self._state and self._layout[goal_state] == 0:\n",
        "        # Reachable state found!\n",
        "        return goal_state\n",
        "      n += 1\n",
        "    raise ValueError('Failed to sample a goal state.')\n",
        "\n",
        "  @property\n",
        "  def layout(self):\n",
        "    return self._layout\n",
        "\n",
        "  @property\n",
        "  def number_of_states(self):\n",
        "    return self._number_of_states\n",
        "\n",
        "  @property\n",
        "  def goal_state(self):\n",
        "    return self._goal_state\n",
        "\n",
        "  @property\n",
        "  def start_state(self):\n",
        "    return self._start_state\n",
        "\n",
        "  @property\n",
        "  def state(self):\n",
        "    return self._state\n",
        "\n",
        "  def set_state(self, x, y):\n",
        "    self._state = (y, x)\n",
        "\n",
        "  @goal_state.setter\n",
        "  def goal_state(self, new_goal):\n",
        "    if new_goal == self._state or self._layout[new_goal] < 0:\n",
        "      raise ValueError('This is not a valid goal!')\n",
        "    # Zero out any other goal\n",
        "    self._layout[self._layout > 0] = 0\n",
        "    # Setup new goal location\n",
        "    self._layout[new_goal] = self._reward_goal\n",
        "    self._goal_state = new_goal\n",
        "\n",
        "  def observation_spec(self):\n",
        "    if self._observation_type is ObservationType.AGENT_ONEHOT:\n",
        "      return specs.Array(\n",
        "          shape=self._layout_dims,\n",
        "          dtype=np.float32,\n",
        "          name='observation_agent_onehot')\n",
        "    elif self._observation_type is ObservationType.GRID:\n",
        "      return specs.Array(\n",
        "          shape=self._layout_dims + (3,),\n",
        "          dtype=np.float32,\n",
        "          name='observation_grid')\n",
        "    elif self._observation_type is ObservationType.AGENT_GOAL_POS:\n",
        "      return specs.Array(\n",
        "          shape=(4,), dtype=np.float32, name='observation_agent_goal_pos')\n",
        "    elif self._observation_type is ObservationType.STATE_INDEX:\n",
        "      return specs.DiscreteArray(\n",
        "          self._number_of_states, dtype=int, name='observation_state_index')\n",
        "\n",
        "  def action_spec(self):\n",
        "    return specs.DiscreteArray(4, dtype=int, name='action')\n",
        "\n",
        "  def get_obs(self):\n",
        "    if self._observation_type is ObservationType.AGENT_ONEHOT:\n",
        "      obs = np.zeros(self._layout.shape, dtype=np.float32)\n",
        "      # Place agent\n",
        "      obs[self._state] = 1\n",
        "      return obs\n",
        "    elif self._observation_type is ObservationType.GRID:\n",
        "      obs = np.zeros(self._layout.shape + (3,), dtype=np.float32)\n",
        "      obs[..., 0] = self._layout < 0\n",
        "      obs[self._state[0], self._state[1], 1] = 1\n",
        "      obs[self._goal_state[0], self._goal_state[1], 2] = 1\n",
        "      return obs\n",
        "    elif self._observation_type is ObservationType.AGENT_GOAL_POS:\n",
        "      return np.array(self._state + self._goal_state, dtype=np.float32)\n",
        "    elif self._observation_type is ObservationType.STATE_INDEX:\n",
        "      y, x = self._state\n",
        "      return y * self._layout.shape[1] + x\n",
        "\n",
        "  def reset(self):\n",
        "    self._state = self._start_state\n",
        "    self._num_episode_steps = 0\n",
        "    if self._randomize_goals:\n",
        "      self.goal_state = self._sample_goal()\n",
        "    return dm_env.TimeStep(\n",
        "        step_type=dm_env.StepType.FIRST,\n",
        "        reward=None,\n",
        "        discount=None,\n",
        "        observation=self.get_obs())\n",
        "\n",
        "  def step(self, action):\n",
        "    y, x = self._state\n",
        "\n",
        "    if action == 0:  # up\n",
        "      new_state = (y - 1, x)\n",
        "    elif action == 1:  # right\n",
        "      new_state = (y, x + 1)\n",
        "    elif action == 2:  # down\n",
        "      new_state = (y + 1, x)\n",
        "    elif action == 3:  # left\n",
        "      new_state = (y, x - 1)\n",
        "    else:\n",
        "      raise ValueError(\n",
        "          'Invalid action: {} is not 0, 1, 2, or 3.'.format(action))\n",
        "\n",
        "    new_y, new_x = new_state\n",
        "    step_type = dm_env.StepType.MID\n",
        "    if self._layout[new_y, new_x] == -1:  # wall\n",
        "      reward = self._penalty_for_walls\n",
        "      discount = self._discount\n",
        "      new_state = (y, x)\n",
        "    elif self._layout[new_y, new_x] == 0:  # empty cell\n",
        "      reward = 0.\n",
        "      discount = self._discount\n",
        "    else:  # a goal\n",
        "      reward = self._layout[new_y, new_x]\n",
        "      discount = 0.\n",
        "      new_state = self._start_state\n",
        "      step_type = dm_env.StepType.LAST\n",
        "\n",
        "    self._state = new_state\n",
        "    self._num_episode_steps += 1\n",
        "    if (self._max_episode_length is not None and\n",
        "        self._num_episode_steps >= self._max_episode_length):\n",
        "      step_type = dm_env.StepType.LAST\n",
        "    return dm_env.TimeStep(\n",
        "        step_type=step_type,\n",
        "        reward=np.float32(reward),\n",
        "        discount=discount,\n",
        "        observation=self.get_obs())\n",
        "\n",
        "  def plot_grid(self, add_start=True):\n",
        "    plt.figure(figsize=(4, 4))\n",
        "    plt.imshow(self._layout <= -1, interpolation='nearest', cmap='Pastel1_r')\n",
        "    ax = plt.gca()\n",
        "    ax.grid(0)\n",
        "    plt.xticks([])\n",
        "    plt.yticks([])\n",
        "    # Add start/goal\n",
        "    if add_start:\n",
        "      plt.text(\n",
        "          self._start_state[1],\n",
        "          self._start_state[0],\n",
        "          r'$\\mathbf{S}$',\n",
        "          fontsize=16,\n",
        "          ha='center',\n",
        "          va='center')\n",
        "    plt.text(\n",
        "        self._goal_state[1],\n",
        "        self._goal_state[0],\n",
        "        r'$\\mathbf{G}$',\n",
        "        fontsize=16,\n",
        "        ha='center',\n",
        "        va='center')\n",
        "    h, w = self._layout.shape\n",
        "    for y in range(h - 1):\n",
        "      plt.plot([-0.5, w - 0.5], [y + 0.5, y + 0.5], '-k', lw=2)\n",
        "    for x in range(w - 1):\n",
        "      plt.plot([x + 0.5, x + 0.5], [-0.5, h - 0.5], '-k', lw=2)\n",
        "\n",
        "  def plot_state(self, return_rgb=False):\n",
        "    self.plot_grid(add_start=False)\n",
        "    # Add the agent location\n",
        "    plt.text(\n",
        "        self._state[1],\n",
        "        self._state[0],\n",
        "        u'😃',\n",
        "        fontname='symbola',\n",
        "        fontsize=18,\n",
        "        ha='center',\n",
        "        va='center',\n",
        "    )\n",
        "    if return_rgb:\n",
        "      fig = plt.gcf()\n",
        "      plt.axis('tight')\n",
        "      plt.subplots_adjust(0, 0, 1, 1, 0, 0)\n",
        "      fig.canvas.draw()\n",
        "      data = np.fromstring(fig.canvas.tostring_rgb(), dtype=np.uint8, sep='')\n",
        "      w, h = fig.canvas.get_width_height()\n",
        "      data = data.reshape((h, w, 3))\n",
        "      plt.close(fig)\n",
        "      return data\n",
        "\n",
        "  def plot_policy(self, policy):\n",
        "    action_names = [\n",
        "        r'$\\uparrow$', r'$\\rightarrow$', r'$\\downarrow$', r'$\\leftarrow$'\n",
        "    ]\n",
        "    self.plot_grid()\n",
        "    plt.title('Policy Visualization')\n",
        "    h, w = self._layout.shape\n",
        "    for y in range(h):\n",
        "      for x in range(w):\n",
        "        # if ((y, x) != self._start_state) and ((y, x) != self._goal_state):\n",
        "        if (y, x) != self._goal_state:\n",
        "          action_name = action_names[policy[y, x]]\n",
        "          plt.text(x, y, action_name, ha='center', va='center')\n",
        "\n",
        "  def plot_greedy_policy(self, q):\n",
        "    greedy_actions = np.argmax(q, axis=2)\n",
        "    self.plot_policy(greedy_actions)\n",
        "\n",
        "\n",
        "def build_gridworld_task(task,\n",
        "                         discount=0.9,\n",
        "                         penalty_for_walls=-5,\n",
        "                         observation_type=ObservationType.STATE_INDEX,\n",
        "                         max_episode_length=200):\n",
        "  \"\"\"Construct a particular Gridworld layout with start/goal states.\n",
        "\n",
        "  Args:\n",
        "      task: string name of the task to use. One of {'simple', 'obstacle',\n",
        "        'random_goal'}.\n",
        "      discount: Discounting factor included in all Timesteps.\n",
        "      penalty_for_walls: Reward added when hitting a wall (should be negative).\n",
        "      observation_type: Enum observation type to use. One of:\n",
        "        * ObservationType.STATE_INDEX: int32 index of agent occupied tile.\n",
        "        * ObservationType.AGENT_ONEHOT: NxN float32 grid, with a 1 where the\n",
        "          agent is and 0 elsewhere.\n",
        "        * ObservationType.GRID: NxNx3 float32 grid of feature channels.\n",
        "          First channel contains walls (1 if wall, 0 otherwise), second the\n",
        "          agent position (1 if agent, 0 otherwise) and third goal position\n",
        "          (1 if goal, 0 otherwise)\n",
        "        * ObservationType.AGENT_GOAL_POS: float32 tuple with\n",
        "          (agent_y, agent_x, goal_y, goal_x).\n",
        "      max_episode_length: If set, will terminate an episode after this many\n",
        "        steps.\n",
        "  \"\"\"\n",
        "  tasks_specifications = {\n",
        "      'simple': {\n",
        "          'layout': [\n",
        "              [-1, -1, -1, -1, -1, -1, -1, -1, -1, -1],\n",
        "              [-1, 0, 0, 0, 0, 0, 0, 0, 0, -1],\n",
        "              [-1, 0, 0, 0, -1, -1, 0, 0, 0, -1],\n",
        "              [-1, 0, 0, 0, -1, -1, 0, 0, 0, -1],\n",
        "              [-1, 0, 0, 0, -1, -1, 0, 0, 0, -1],\n",
        "              [-1, 0, 0, 0, 0, 0, 0, 0, 0, -1],\n",
        "              [-1, 0, 0, 0, 0, 0, 0, 0, 0, -1],\n",
        "              [-1, 0, 0, 0, 0, 0, 0, 0, 0, -1],\n",
        "              [-1, -1, -1, -1, -1, -1, -1, -1, -1, -1],\n",
        "          ],\n",
        "          'start_state': (2, 2),\n",
        "          'goal_state': (7, 2)\n",
        "      },\n",
        "      'obstacle': {\n",
        "          'layout': [\n",
        "              [-1, -1, -1, -1, -1, -1, -1, -1, -1, -1],\n",
        "              [-1, 0, 0, 0, 0, 0, -1, 0, 0, -1],\n",
        "              [-1, 0, 0, 0, -1, 0, 0, 0, 0, -1],\n",
        "              [-1, 0, 0, 0, -1, -1, 0, 0, 0, -1],\n",
        "              [-1, 0, 0, 0, -1, -1, 0, 0, 0, -1],\n",
        "              [-1, 0, 0, 0, 0, 0, 0, 0, 0, -1],\n",
        "              [-1, 0, 0, 0, 0, 0, 0, 0, 0, -1],\n",
        "              [-1, 0, 0, 0, 0, 0, 0, 0, 0, -1],\n",
        "              [-1, -1, -1, -1, -1, -1, -1, -1, -1, -1],\n",
        "          ],\n",
        "          'start_state': (2, 2),\n",
        "          'goal_state': (2, 8)\n",
        "      },\n",
        "      'random_goal': {\n",
        "          'layout': [\n",
        "              [-1, -1, -1, -1, -1, -1, -1, -1, -1, -1],\n",
        "              [-1, 0, 0, 0, 0, 0, 0, 0, 0, -1],\n",
        "              [-1, 0, 0, 0, -1, -1, 0, 0, 0, -1],\n",
        "              [-1, 0, 0, 0, -1, -1, 0, 0, 0, -1],\n",
        "              [-1, 0, 0, 0, -1, -1, 0, 0, 0, -1],\n",
        "              [-1, 0, 0, 0, 0, 0, 0, 0, 0, -1],\n",
        "              [-1, 0, 0, 0, 0, 0, 0, 0, 0, -1],\n",
        "              [-1, 0, 0, 0, 0, 0, 0, 0, 0, -1],\n",
        "              [-1, -1, -1, -1, -1, -1, -1, -1, -1, -1],\n",
        "          ],\n",
        "          'start_state': (2, 2),\n",
        "          # 'randomize_goals': True\n",
        "      },\n",
        "  }\n",
        "  return GridWorld(\n",
        "      discount=discount,\n",
        "      penalty_for_walls=penalty_for_walls,\n",
        "      observation_type=observation_type,\n",
        "      max_episode_length=max_episode_length,\n",
        "      **tasks_specifications[task])\n",
        "\n",
        "\n",
        "def setup_environment(environment):\n",
        "  \"\"\"Returns the environment and its spec.\"\"\"\n",
        "\n",
        "  # Make sure the environment outputs single-precision floats.\n",
        "  environment = wrappers.SinglePrecisionWrapper(environment)\n",
        "\n",
        "  # Grab the spec of the environment.\n",
        "  environment_spec = specs.make_environment_spec(environment)\n",
        "\n",
        "  return environment, environment_spec"
      ],
      "execution_count": null,
      "outputs": []
    },
    {
      "cell_type": "markdown",
      "metadata": {
        "id": "ZizdE9SQS-cN"
      },
      "source": [
        "\n",
        "We will use two distinct tabular GridWorlds:\n",
        "* `simple` where the goal is at the bottom left of the grid, little navigation required.\n",
        "* `obstacle` where the goal is behind an obstacle the agent must avoid.\n",
        "\n",
        "You can visualize the grid worlds by running the cell below.\n",
        "\n",
        "Note that **S** indicates the start state and **G** indicates the goal.\n"
      ]
    },
    {
      "cell_type": "code",
      "metadata": {
        "colab": {
          "base_uri": "https://localhost:8080/",
          "height": 545
        },
        "id": "7Xdnh3Odc63Q",
        "outputId": "bfbbdc40-1044-4686-f6b9-d95070cd4446",
        "cellView": "form"
      },
      "source": [
        "# @title Visualise GridWorlds\n",
        "\n",
        "# Instantiate two tabular environments, a simple task, and one that involves\n",
        "# the avoidance of an obstacle.\n",
        "simple_grid = build_gridworld_task(\n",
        "    task='simple', observation_type=ObservationType.GRID)\n",
        "obstacle_grid = build_gridworld_task(\n",
        "    task='obstacle', observation_type=ObservationType.GRID)\n",
        "\n",
        "# Plot them.\n",
        "simple_grid.plot_grid()\n",
        "plt.title('Simple')\n",
        "\n",
        "obstacle_grid.plot_grid()\n",
        "_ = plt.title('Obstacle')\n"
      ],
      "execution_count": null,
      "outputs": [
        {
          "output_type": "display_data",
          "data": {
            "text/plain": [
              "<Figure size 288x288 with 1 Axes>"
            ],
            "image/png": "[encoded data removed]"
          },
          "metadata": {
            "image/png": {
              "width": 270,
              "height": 264
            }
          }
        },
        {
          "output_type": "display_data",
          "data": {
            "text/plain": [
              "<Figure size 288x288 with 1 Axes>"
            ],
            "image/png": "[encoded data removed]"
          },
          "metadata": {
            "image/png": {
              "width": 270,
              "height": 264
            }
          }
        }
      ]
    },
    {
      "cell_type": "markdown",
      "metadata": {
        "id": "RTsiWgDSCL7C"
      },
      "source": [
        "\n",
        "In this environment, the agent has four possible  <font color='blue'>**actions**</font>: `up`, `right`, `down`, and `left`.  The <font color='green'>**reward**</font> is `-5` for bumping into a wall, `+10` for reaching the goal, and `0` otherwise. The episode ends when the agent reaches the goal, and otherwise continues. The **discount** on continuing steps, is $\\gamma = 0.9$.\n",
        "\n",
        "Before we start building an agent to interact with this environment, let's first look at the types of objects the environment either returns (e.g. <font color='redorange'>**observations**</font>) or consumes (e.g. <font color='blue'>**actions**</font>). The `environment_spec` will show you the form of the <font color='redorange'>**observations**</font>, <font color='green'>**rewards**</font> and **discounts** that the environment exposes and the form of the <font color='blue'>**actions**</font> that can be taken.\n"
      ]
    },
    {
      "cell_type": "code",
      "metadata": {
        "colab": {
          "base_uri": "https://localhost:8080/"
        },
        "id": "rmKop4FECVV6",
        "outputId": "7b8f5ad3-dd1d-40b7-b51b-0d4584c77513",
        "cellView": "form"
      },
      "source": [
        "# @title Look at environment_spec { form-width: \"30%\" }\n",
        "\n",
        "# Note: setup_environment is implemented in the same cell as GridWorld.\n",
        "environment, environment_spec = setup_environment(simple_grid)\n",
        "\n",
        "print('actions:\\n', environment_spec.actions, '\\n')\n",
        "print('observations:\\n', environment_spec.observations, '\\n')\n",
        "print('rewards:\\n', environment_spec.rewards, '\\n')\n",
        "print('discounts:\\n', environment_spec.discounts, '\\n')"
      ],
      "execution_count": null,
      "outputs": [
        {
          "output_type": "stream",
          "name": "stdout",
          "text": [
            "actions:\n",
            " DiscreteArray(shape=(), dtype=int32, name=action, minimum=0, maximum=3, num_values=4) \n",
            "\n",
            "observations:\n",
            " Array(shape=(9, 10, 3), dtype=dtype('float32'), name='observation_grid') \n",
            "\n",
            "rewards:\n",
            " Array(shape=(), dtype=dtype('float32'), name='reward') \n",
            "\n",
            "discounts:\n",
            " BoundedArray(shape=(), dtype=dtype('float32'), name='discount', minimum=0.0, maximum=1.0) \n",
            "\n"
          ]
        }
      ]
    },
    {
      "cell_type": "markdown",
      "metadata": {
        "id": "0VVTmep2UK6U"
      },
      "source": [
        "\n",
        "We first set the environment to its initial location by calling the `reset()` method which returns the first observation.\n"
      ]
    },
    {
      "cell_type": "code",
      "metadata": {
        "colab": {
          "base_uri": "https://localhost:8080/",
          "height": 261
        },
        "id": "rHden9m9FNPK",
        "outputId": "1e38a23e-54b5-40ba-f9a3-1a045351ba67"
      },
      "source": [
        "environment.reset()\n",
        "environment.plot_state()"
      ],
      "execution_count": null,
      "outputs": [
        {
          "output_type": "display_data",
          "data": {
            "text/plain": [
              "<Figure size 288x288 with 1 Axes>"
            ],
            "image/png": "[encoded data removed]"
          },
          "metadata": {
            "image/png": {
              "width": 270,
              "height": 244
            }
          }
        }
      ]
    },
    {
      "cell_type": "markdown",
      "metadata": {
        "id": "pXb7u9epFWnX"
      },
      "source": [
        "Now we want to take an action to interact with the environment. We do this by passing a valid action to the `dm_env.Environment.step()` method which returns a `dm_env.TimeStep` namedtuple with fields `(step_type, reward, discount, observation)`.\n",
        "\n",
        "Let's take an action and visualise the resulting state of the grid-world. (You'll need to rerun the cell if you pick a new action.)"
      ]
    },
    {
      "cell_type": "code",
      "metadata": {
        "cellView": "form",
        "colab": {
          "base_uri": "https://localhost:8080/",
          "height": 261
        },
        "id": "LY1eopIWFe95",
        "outputId": "de972824-163f-47a5-aecb-2f70a015c0bf"
      },
      "source": [
        "#@title Pick an action and see the state changing\n",
        "action = \"left\" #@param [\"up\", \"right\", \"down\", \"left\"] {type:\"string\"}\n",
        "\n",
        "action_int = {'up': 0,\n",
        "              'right': 1,\n",
        "              'down': 2,\n",
        "              'left': 3}\n",
        "action = int(action_int[action])\n",
        "timestep = environment.step(action)  # pytype: dm_env.TimeStep\n",
        "environment.plot_state()"
      ],
      "execution_count": null,
      "outputs": [
        {
          "output_type": "display_data",
          "data": {
            "text/plain": [
              "<Figure size 288x288 with 1 Axes>"
            ],
            "image/png": "[encoded data removed]"
          },
          "metadata": {
            "image/png": {
              "width": 270,
              "height": 244
            }
          }
        }
      ]
    },
    {
      "cell_type": "code",
      "metadata": {
        "id": "pSFDZPksEGpl",
        "cellView": "form"
      },
      "source": [
        "#@title Implement the run loop  { form-width: \"30%\" }\n",
        "\n",
        "def run_loop(\n",
        "    environment: dm_env.Environment,\n",
        "    agent: acme.Actor,\n",
        "    num_episodes: Optional[int] = None,\n",
        "    num_steps: Optional[int] = None,\n",
        "    logger_time_delta: float = .25,\n",
        "    label: str = 'training_loop',\n",
        "    log_loss: bool = False,\n",
        "):\n",
        "  \"\"\"Perform the run loop.\n",
        "\n",
        "  We are following the Acme run loop.\n",
        "\n",
        "  Run the environment loop for `num_episodes` episodes. Each episode is itself\n",
        "  a loop which interacts first with the environment to get an observation and\n",
        "  then give that observation to the agent in order to retrieve an action. Upon\n",
        "  termination of an episode a new episode will be started. If the number of\n",
        "  episodes is not given then this will interact with the environment\n",
        "  infinitely.\n",
        "\n",
        "  Args:\n",
        "    environment: dm_env.Environment used to generate trajectories.\n",
        "    agent: acme.Actor for selecting actions in the run loop.\n",
        "    num_steps: number of steps to run the loop for. If `None` (default), runs\n",
        "      without limit.\n",
        "    num_episodes: number of episodes to run the loop for. If `None` (default),\n",
        "      runs without limit.\n",
        "    logger_time_delta: time interval (in seconds) between consecutive logging\n",
        "      steps.\n",
        "    label: optional label used at logging steps.\n",
        "  \"\"\"\n",
        "  logger = loggers.TerminalLogger(label=label, time_delta=logger_time_delta)\n",
        "  iterator = range(num_episodes) if num_episodes else itertools.count()\n",
        "  all_returns = []\n",
        "\n",
        "  num_total_steps = 0\n",
        "  for episode in iterator:\n",
        "    # Reset any counts and start the environment.\n",
        "    start_time = time.time()\n",
        "    episode_steps = 0\n",
        "    episode_return = 0\n",
        "    episode_loss = 0\n",
        "\n",
        "    timestep = environment.reset()\n",
        "\n",
        "    # Make the first observation.\n",
        "    agent.observe_first(timestep)\n",
        "\n",
        "    # Run an episode.\n",
        "    while not timestep.last():\n",
        "      # Generate an action from the agent's policy and step the environment.\n",
        "      action = agent.select_action(timestep.observation)\n",
        "      timestep = environment.step(action)\n",
        "\n",
        "      # Have the agent observe the timestep and let the agent update itself.\n",
        "      agent.observe(action, next_timestep=timestep)\n",
        "      agent.update()\n",
        "\n",
        "      # Book-keeping.\n",
        "      episode_steps += 1\n",
        "      num_total_steps += 1\n",
        "      episode_return += timestep.reward\n",
        "\n",
        "      if log_loss:\n",
        "        episode_loss += agent.last_loss\n",
        "\n",
        "      if num_steps is not None and num_total_steps >= num_steps:\n",
        "        break\n",
        "\n",
        "    # Collect the results and combine with counts.\n",
        "    steps_per_second = episode_steps / (time.time() - start_time)\n",
        "    result = {\n",
        "        'episode': episode,\n",
        "        'episode_length': episode_steps,\n",
        "        'episode_return': episode_return,\n",
        "    }\n",
        "    if log_loss:\n",
        "      result['loss_avg'] = episode_loss / episode_steps\n",
        "\n",
        "    all_returns.append(episode_return)\n",
        "\n",
        "    # Log the given results.\n",
        "    logger.write(result)\n",
        "\n",
        "    if num_steps is not None and num_total_steps >= num_steps:\n",
        "      break\n",
        "\n",
        "  return all_returns"
      ],
      "execution_count": null,
      "outputs": []
    },
    {
      "cell_type": "code",
      "metadata": {
        "cellView": "form",
        "id": "_gatpjQ8QA_H"
      },
      "source": [
        "#@title Implement the evaluation loop { form-width: \"30%\" }\n",
        "\n",
        "def evaluate(environment: dm_env.Environment,\n",
        "             agent: acme.Actor,\n",
        "             evaluation_episodes: int):\n",
        "  frames = []\n",
        "\n",
        "  for episode in range(evaluation_episodes):\n",
        "    timestep = environment.reset()\n",
        "    episode_return = 0\n",
        "    steps = 0\n",
        "    while not timestep.last():\n",
        "      frames.append(environment.plot_state(return_rgb=True))\n",
        "\n",
        "      action = agent.select_action(timestep.observation)\n",
        "      timestep = environment.step(action)\n",
        "      steps += 1\n",
        "      episode_return += timestep.reward\n",
        "    print(\n",
        "        f'Episode {episode} ended with reward {episode_return} in {steps} steps'\n",
        "    )\n",
        "  return frames\n",
        "\n",
        "def display_video(frames: Sequence[np.ndarray],\n",
        "                  filename: str = 'temp.mp4',\n",
        "                  frame_rate: int = 12):\n",
        "  \"\"\"Save and display video.\"\"\"\n",
        "  # Write the frames to a video.\n",
        "  with imageio.get_writer(filename, fps=frame_rate) as video:\n",
        "    for frame in frames:\n",
        "      video.append_data(frame)\n",
        "\n",
        "  # Read video and display the video.\n",
        "  video = open(filename, 'rb').read()\n",
        "  b64_video = base64.b64encode(video)\n",
        "  video_tag = ('<video  width=\"320\" height=\"240\" controls alt=\"test\" '\n",
        "               'src=\"data:video/mp4;base64,{0}\">').format(b64_video.decode())\n",
        "  return IPython.display.HTML(video_tag)"
      ],
      "execution_count": null,
      "outputs": []
    },
    {
      "cell_type": "markdown",
      "metadata": {
        "id": "_0YgLdsi3kXw"
      },
      "source": [
        "## Section 2.2: The Agent\n",
        "\n",
        "We will be implementing Tabular & Function Approximation agents. Tabular agents are purely in Python.\n",
        "\n",
        "All agents will share the same interface from the Acme `Actor`. Here we borrow a figure from Acme to show how this interaction occurs:\n"
      ]
    },
    {
      "cell_type": "markdown",
      "metadata": {
        "id": "4MAYbEvtJ1kT"
      },
      "source": [
        "### Agent interface\n",
        "\n",
        "\n",
        "<center><img src=\"https://drive.google.com/uc?id=1T7FTpA9RgDYFkciDFZK4brNyURZN_ZGp\" width=\"500\" /></center>\n",
        "\n",
        "Each agent implements the following functions:\n",
        "\n",
        "```python\n",
        "class Agent(acme.Actor):\n",
        "  def __init__(self, number_of_actions, number_of_states, ...):\n",
        "    \"\"\"Provides the agent the number of actions and number of states.\"\"\"\n",
        "\n",
        "  def select_action(self, observation):\n",
        "    \"\"\"Generates actions from observations.\"\"\"\n",
        "\n",
        "  def observe_first(self, timestep):\n",
        "    \"\"\"Records the initial timestep in a trajectory.\"\"\"\n",
        "\n",
        "  def observe(self, action, next_timestep):\n",
        "    \"\"\"Records the transition which occurred from taking an action.\"\"\"\n",
        "\n",
        "  def update(self):\n",
        "    \"\"\"Updates the agent's internals to potentially change its behavior.\"\"\"\n",
        "```\n",
        "\n",
        "Remarks on the `observe()` function:\n",
        "\n",
        "1. In the last method, the `next_timestep` provides the `reward`, `discount`, and `observation` that resulted from selecting `action`.\n",
        "\n",
        "2. The `next_timestep.step_type` will be either `MID` or `LAST` and should be used to determine whether this is the last observation in the episode.\n",
        "\n",
        "3. The `next_timestep.step_type` cannot be `FIRST`; such a timestep should only ever be given to `observe_first()`.\n"
      ]
    },
    {
      "cell_type": "markdown",
      "metadata": {
        "id": "7XD9bXC3UCHd"
      },
      "source": [
        "### Exercise 2.1: Random Agent\n",
        "\n",
        "Below is a partially complete implemention of an agent that follows a random policy. Fill in the ```select_action``` method.\n",
        "\n",
        "The ```select_action``` method should return a random **integer** between 0 and ```self._num_actions``` (not a tensor or an array!)"
      ]
    },
    {
      "cell_type": "code",
      "metadata": {
        "id": "fJv-VQVJjR-S",
        "cellView": "form"
      },
      "source": [
        "#@title Build a random Agent  { form-width: \"30%\" }\n",
        "\n",
        "# Uniform random policy\n",
        "def random_policy(q):\n",
        "  return np.random.randint(4)\n",
        "\n",
        "# (Do not worry about the details here, we will explain the Actor class below)\n",
        "class RandomAgent(acme.Actor):\n",
        "  def select_action(self, observation):\n",
        "    return random_policy(None)\n",
        "\n",
        "  def observe_first(self, timestep):\n",
        "    \"\"\"The agent is being notified that environment was reset.\"\"\"\n",
        "    pass\n",
        "\n",
        "  def observe(self, action, next_timestep):\n",
        "    \"\"\"The agent is being notified of an environment step.\"\"\"\n",
        "    pass\n",
        "\n",
        "  def update(self):\n",
        "    \"\"\"Agent should update its parameters.\"\"\"\n",
        "    pass"
      ],
      "execution_count": null,
      "outputs": []
    },
    {
      "cell_type": "code",
      "metadata": {
        "colab": {
          "base_uri": "https://localhost:8080/",
          "height": 279
        },
        "id": "oxjzoRO03jGH",
        "outputId": "e6a4e9bb-0a1b-4aee-d6a3-358e5ccd76e8",
        "cellView": "form"
      },
      "source": [
        "#@title Visualisation { form-width: \"30%\" }\n",
        "\n",
        "# Create the agent by giving it the action space specification.\n",
        "agent = RandomAgent()\n",
        "\n",
        "# Run the agent in the evaluation loop, which returns the frames.\n",
        "frames = evaluate(environment, agent, evaluation_episodes=1)\n",
        "\n",
        "# Visualize the random agent's episode.\n",
        "display_video(frames)"
      ],
      "execution_count": null,
      "outputs": [
        {
          "output_type": "stream",
          "name": "stdout",
          "text": [
            "Episode 0 ended with reward -45.0 in 38 steps\n"
          ]
        },
        {
          "output_type": "execute_result",
          "data": {
            "text/plain": [
              "<IPython.core.display.HTML object>"
            ],
            "text/html": [
              "<video  width=\"320\" height=\"240\" controls alt=\"test\" src=\"data:video/mp4;base64,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\">"
            ]
          },
          "metadata": {},
          "execution_count": 22
        }
      ]
    },
    {
      "cell_type": "markdown",
      "metadata": {
        "id": "KyMUX2eSqOvB"
      },
      "source": [
        "#Section 3: The Bellman Equation"
      ]
    },
    {
      "cell_type": "markdown",
      "metadata": {
        "id": "q-oSZS1wp6m6"
      },
      "source": [
        "\n",
        "\n",
        "In this tutorial we focus mainly on <font color='green'>**value based methods**</font>, where agents maintain a value for all state-action pairs and use those estimates to choose actions that maximize that <font color='green'>**value**</font> (instead of maintaining a policy directly, like in <font color='blue'>**policy gradient methods**</font>).\n",
        "\n",
        "We represent the <font color='green'>**action-value function**</font> (otherwise known as $\\color{green}Q$-function associated with following/employing a policy $\\pi$ in a given MDP as:\n",
        "\n",
        "$$ \\color{green}Q^{\\color{blue}{\\pi}}(\\color{red}{s},\\color{blue}{a}) = \\mathbb{E}_{\\tau \\sim P^{\\color{blue}{\\pi}}} \\left[ \\sum_t \\gamma^t \\color{green}{r_t}| s_0=\\color{red}s,a_0=\\color{blue}{a} \\right]$$\n",
        "\n",
        "where $\\tau = \\{\\color{red}{s_0}, \\color{blue}{a_0}, \\color{green}{r_0}, \\color{red}{s_1}, \\color{blue}{a_1}, \\color{green}{r_1}, \\cdots \\}$\n",
        "\n",
        "\n",
        "Recall that efficient value estimations are based on the famous **_Bellman Expectation Equation_**:\n",
        "\n",
        "$$ \\color{green}Q^\\color{blue}{\\pi}(\\color{red}{s},\\color{blue}{a}) =    \\sum_{\\color{red}{s'}\\in \\color{red}{\\mathcal{S}}}\n",
        "\\color{purple}P(\\color{red}{s'} |\\color{red}{s},\\color{blue}{a})\n",
        "\\left(\n",
        "  \\color{green}{R}(\\color{red}{s},\\color{blue}{a}, \\color{red}{s'})\n",
        "  + \\gamma \\color{green}V^\\color{blue}{\\pi}(\\color{red}{s'})\n",
        "  \\right)\n",
        "$$\n",
        "\n",
        "where $\\color{green}V^\\color{blue}{\\pi}$ is the expected $\\color{green}Q^\\color{blue}{\\pi}$ value for a particular state, i.e. $\\color{green}V^\\color{blue}{\\pi}(\\color{red}{s}) = \\sum_{\\color{blue}{a} \\in \\color{blue}{\\mathcal{A}}} \\color{blue}{\\pi}(\\color{blue}{a} |\\color{red}{s}) \\color{green}Q^\\color{blue}{\\pi}(\\color{red}{s},\\color{blue}{a})$.\n"
      ]
    },
    {
      "cell_type": "markdown",
      "metadata": {
        "id": "tKt1VV2gxzpT"
      },
      "source": [
        "# Section 4: Policy Evaluation"
      ]
    },
    {
      "cell_type": "markdown",
      "metadata": {
        "id": "psadjAacV4V9"
      },
      "source": [
        "\n",
        "Tabular agents implement a function `q_values()` returning a matrix of Q values\n",
        "of shape: (`number_of_states`, `number_of_actions`)\n",
        "\n",
        "In this section, we will implement a `PolicyEvalAgent` as an ACME actor: given an `evaluation_policy` and a `behaviour_policy`, it will use the `behaviour_policy` to choose actions, and it will use the corresponding trajectory data to evaluate the `evaluation_policy` (i.e. compute the Q-values as if you were following the `evaluation_policy`)."
      ]
    },
    {
      "cell_type": "markdown",
      "metadata": {
        "id": "IV4DtfDoWJ00"
      },
      "source": [
        "### Exercise 4.1 Policy Evaluation Agent"
      ]
    },
    {
      "cell_type": "code",
      "source": [
        "#@title Helper functions\n",
        "def random_policy(q):\n",
        "  \"\"\"Return random integer between [0, len(q)).\"\"\"\n",
        "  num_actions = len(q)\n",
        "  return np.random.randint(0, num_actions, 1)\n"
      ],
      "metadata": {
        "cellView": "form",
        "id": "7HUX3_h84biF"
      },
      "execution_count": null,
      "outputs": []
    },
    {
      "cell_type": "code",
      "metadata": {
        "id": "TlagjwiwWAvt"
      },
      "source": [
        "#@title **[Exercise]** Policy Evaluation Agent { form-width: \"30%\" }\n",
        "\n",
        "class PolicyEvalAgent(acme.Actor):\n",
        "\n",
        "  def __init__(\n",
        "      self,\n",
        "      number_of_states,\n",
        "      number_of_actions,\n",
        "      evaluated_policy,\n",
        "      behaviour_policy=random_policy,\n",
        "      step_size=0.1):\n",
        "    self._state = None\n",
        "    self._number_of_states = number_of_states\n",
        "    self._number_of_actions = number_of_actions\n",
        "    self._step_size = step_size\n",
        "    self._behaviour_policy = behaviour_policy\n",
        "    self._evaluated_policy = evaluated_policy\n",
        "\n",
        "    # ============ YOUR CODE HERE =============\n",
        "    # initialize your q-values (this is a table of state and action pairs\n",
        "    # Note: this can be random, but the code was tested w/ zero-initialization\n",
        "    pass\n",
        "\n",
        "  @property\n",
        "  def q_values(self):\n",
        "    # ============ YOUR CODE HERE =============\n",
        "    # return self.{whatever_you_named_q}\n",
        "    pass\n",
        "\n",
        "  def select_action(self, observation):\n",
        "    # ============ YOUR CODE HERE =============\n",
        "    pass\n",
        "\n",
        "  def observe_first(self, timestep):\n",
        "    self._state = timestep.observation\n",
        "\n",
        "  def observe(self, action, next_timestep):\n",
        "    s = self._state\n",
        "    a = action\n",
        "    r = next_timestep.reward\n",
        "    g = next_timestep.discount\n",
        "    next_s = next_timestep.observation\n",
        "\n",
        "    # ============ YOUR CODE HERE =============\n",
        "    # Compute TD-Error.\n",
        "    # self._td_error =\n",
        "    pass\n",
        "\n",
        "  def update(self):\n",
        "    # ============ YOUR CODE HERE =============\n",
        "    # Q-value table update.\n",
        "    pass"
      ],
      "execution_count": null,
      "outputs": []
    },
    {
      "cell_type": "code",
      "metadata": {
        "id": "J-UgAoRGmuQG",
        "cellView": "form"
      },
      "source": [
        "#@title **[Solution]** Policy Evaluation Agent (click to expand) { form-width: \"30%\" }\n",
        "\n",
        "# class PolicyEvalAgent(acme.Actor):\n",
        "\n",
        "#   def __init__(self, number_of_states, number_of_actions, evaluated_policy,\n",
        "#                behaviour_policy=random_policy, step_size=0.1):\n",
        "\n",
        "#     self._state = None\n",
        "#     self._number_of_states = number_of_states\n",
        "#     self._number_of_actions = number_of_actions\n",
        "#     self._step_size = step_size\n",
        "#     self._behaviour_policy = behaviour_policy\n",
        "#     self._evaluated_policy = evaluated_policy\n",
        "#     # (this is a table of state and action pairs)\n",
        "#     # Note: this can be random, but the code was tested w/ zero-initialization\n",
        "#     self._q = np.zeros((number_of_states, number_of_actions))\n",
        "#     self._action = None\n",
        "#     self._next_state = None\n",
        "\n",
        "#   @property\n",
        "#   def q_values(self):\n",
        "#     # return the Q values\n",
        "#     return self._q\n",
        "\n",
        "#   def select_action(self, observation):\n",
        "#     # Select an action\n",
        "#     return self._behaviour_policy(self._q[observation])\n",
        "\n",
        "#   def observe_first(self, timestep):\n",
        "#     self._state = timestep.observation\n",
        "\n",
        "#   def observe(self, action, next_timestep):\n",
        "#     s = self._state\n",
        "#     a = action\n",
        "#     r = next_timestep.reward\n",
        "#     g = next_timestep.discount\n",
        "#     next_s = next_timestep.observation\n",
        "\n",
        "#     # Compute TD-Error.\n",
        "#     self._action = a\n",
        "#     self._next_state = next_s\n",
        "\n",
        "#     next_a = self._evaluated_policy(self._q[next_s])\n",
        "#     self._td_error = r + g * self._q[next_s, next_a] - self._q[s, a]\n",
        "\n",
        "#   def update(self):\n",
        "#     # Updates\n",
        "#     s = self._state\n",
        "#     a = self._action\n",
        "#     # Q-value table update.\n",
        "#     self._q[s, a] += self._step_size * self._td_error\n",
        "#     # Update the state\n",
        "#     self._state = self._next_state"
      ],
      "execution_count": null,
      "outputs": []
    },
    {
      "cell_type": "markdown",
      "source": [
        "We will first see how this works on the `simple` GridWorld task.\n",
        "\n",
        "**Task 1**: Run the policy evaluation agent, evaluating the uniformly random policy on the `simple` task.\n",
        "\n",
        "Try different number of training steps, e.g. $\\texttt{num_steps} = 1e3, 1e5$.\n",
        "\n",
        "Visualise the resulting value functions $Q(\\color{red}s,\\color{blue}a)$.\n",
        "The plotting function is provided for you and it takes in a table of q-values."
      ],
      "metadata": {
        "id": "1OSSC_ji4ibc"
      }
    },
    {
      "cell_type": "code",
      "source": [
        "num_steps = 1e3  #@param {type:\"number\"}\n",
        "\n",
        "# environment\n",
        "grid = build_gridworld_task(task='simple')\n",
        "environment, environment_spec = setup_environment(grid)\n",
        "\n",
        "# agent\n",
        "agent = PolicyEvalAgent(\n",
        "    number_of_states=environment_spec.observations.num_values,\n",
        "    number_of_actions=environment_spec.actions.num_values,\n",
        "    evaluated_policy=random_policy,\n",
        "    behaviour_policy=random_policy,\n",
        "    step_size=0.1)\n",
        "\n",
        "# run experiment and get the value functions from agent\n",
        "returns = run_loop(environment=environment, agent=agent, num_steps=int(num_steps))\n",
        "\n",
        "# get the q-values\n",
        "q = agent.q_values.reshape(grid._layout.shape + (4,))\n",
        "\n",
        "# visualize value functions\n",
        "print('AFTER {} STEPS ...'.format(num_steps))\n",
        "plot_action_values(q, epsilon=1.)"
      ],
      "metadata": {
        "colab": {
          "base_uri": "https://localhost:8080/",
          "height": 592
        },
        "cellView": "form",
        "id": "eaHy00Vy4kxq",
        "outputId": "129a6eb5-35ab-4551-c405-c08e707a7a97"
      },
      "execution_count": null,
      "outputs": [
        {
          "output_type": "stream",
          "name": "stdout",
          "text": [
            "AFTER 1000.0 STEPS ...\n"
          ]
        },
        {
          "output_type": "display_data",
          "data": {
            "text/plain": [
              "<Figure size 576x576 with 10 Axes>"
            ],
            "image/png": "[encoded data removed]"
          },
          "metadata": {
            "image/png": {
              "width": 558,
              "height": 558
            },
            "needs_background": "light"
          }
        }
      ]
    },
    {
      "cell_type": "markdown",
      "metadata": {
        "id": "aDfXNM1p59vJ"
      },
      "source": [
        "# Section 5: Tabular Value-Based Model-Free Learning"
      ]
    },
    {
      "cell_type": "markdown",
      "metadata": {
        "id": "-Zxn5sTmJ86L"
      },
      "source": [
        "## Section 5.1: On-policy control: SARSA Agent\n",
        "In this section, we are focusing on control RL algorithms, which perform the **evaluation** and **improvement** of the policy synchronously. That is, the policy that is being evaluated improves as the agent is using it to interact with the environent.\n",
        "\n",
        "\n",
        "The first algorithm we are going to be looking at is SARSA. This is an **on-policy algorithm** -- i.e: the data collection is done by leveraging the policy we're trying to optimize.\n",
        "\n",
        "As discussed during lectures, a greedy policy with respect to a given $\\color{Green}Q$ fails to explore the environment as needed; we will use instead an $\\epsilon$-greedy policy with respect to $\\color{Green}Q$.\n",
        "\n",
        "### SARSA Algorithm\n",
        "\n",
        "**Input:**\n",
        "- $\\epsilon \\in (0, 1)$ the probability of taking a random action , and\n",
        "- $\\alpha > 0$ the step size, also known as learning rate.\n",
        "\n",
        "**Initialize:** $\\color{green}Q(\\color{red}{s}, \\color{blue}{a})$ for all $\\color{red}{s}$ ∈ $\\mathcal{\\color{red}S}$ and $\\color{blue}a$ ∈ $\\mathcal{\\color{blue}A}$\n",
        "\n",
        "**Loop forever:**\n",
        "\n",
        "1. Get $\\color{red}s \\gets{}$current (non-terminal) state\n",
        "\n",
        "2. Select $\\color{blue}a \\gets{} \\text{epsilon_greedy}(\\color{green}Q(\\color{red}s, \\cdot))$\n",
        "\n",
        "3. Step in the environment by passing the selected action $\\color{blue}a$\n",
        "\n",
        "4. Observe resulting reward $\\color{green}r$, discount $\\gamma$, and state $\\color{red}{s'}$\n",
        "\n",
        "5. Compute TD error: $\\Delta \\color{green}Q \\gets\n",
        "\\color{green}r + \\gamma \\color{green}Q(\\color{red}{s'}, \\color{blue}{a'}) − \\color{green}Q(\\color{red}s, \\color{blue}a)$, <br> where $\\color{blue}{a'} \\gets \\text{epsilon_greedy}(\\color{green}Q(\\color{red}{s'}, \\cdot))$\n",
        "\n",
        "5. Update $\\color{green}Q(\\color{red}s, \\color{blue}a) \\gets \\color{green}Q(\\color{red}s, \\color{blue}a) + \\alpha \\Delta \\color{green}Q$\n"
      ]
    },
    {
      "cell_type": "markdown",
      "metadata": {
        "id": "1biiAffdLNnX"
      },
      "source": [
        "###Exercise 5.1: Implement SARSA\n",
        "Below you will find incomplete code for sampling from an $\\epsilon$-greedy policy, and for implementing an agent that learns values according to the SARSA algorithm.\n",
        "\n",
        "\n"
      ]
    },
    {
      "cell_type": "code",
      "metadata": {
        "id": "Eh01H8RzMJaV",
        "cellView": "form"
      },
      "source": [
        "#@title **[Exercise]** Epsilon Greedy Policy { form-width: \"30%\" }\n",
        "\n",
        "def epsilon_greedy(\n",
        "    q_values_at_s: np.ndarray,  # Q-values in state s: Q(s, :).\n",
        "    epsilon: float = 0.1,  # Probability of taking a random action.\n",
        "):\n",
        "  \"\"\"Return an epsilon-greedy action sample.\"\"\"\n",
        "\n",
        "  # TODO return the action greedy to Q values\n",
        "\n",
        "  raise NotImplementedError(\"Student exercise: complete epsilon greedy policy function\")\n",
        "  if ...:\n",
        "    action = ...\n",
        "    return action\n",
        "  # TODO else return a random action\n",
        "  else:\n",
        "    num_actions = np.array(q_values_at_s).shape[-1]\n",
        "    action = ...\n",
        "    return action\n"
      ],
      "execution_count": null,
      "outputs": []
    },
    {
      "cell_type": "code",
      "metadata": {
        "cellView": "form",
        "id": "VRVCcZu4M1UH"
      },
      "source": [
        "#@title **[Solution]** Epsilon Greedy Policy { form-width: \"30%\" }\n",
        "\n",
        "# def epsilon_greedy(\n",
        "#     q_values_at_s: np.ndarray,  # Q-values in state s: Q(s, :).\n",
        "#     epsilon: float = 0.1,  # Probability of taking a random action.\n",
        "# ):\n",
        "#   \"\"\"Return an epsilon-greedy action sample.\"\"\"\n",
        "#   if epsilon < np.random.random():\n",
        "#     # Greedy: Pick action with the largest Q-value.\n",
        "#     return np.argmax(q_values_at_s)\n",
        "#   else:\n",
        "#     # Get the number of actions from the size of the given vector of Q-values.\n",
        "#     num_actions = np.array(q_values_at_s).shape[-1]\n",
        "#     return np.random.randint(num_actions)"
      ],
      "execution_count": null,
      "outputs": []
    },
    {
      "cell_type": "code",
      "metadata": {
        "id": "wrTXrKw8MSVk",
        "cellView": "form"
      },
      "source": [
        "#@title **[Exercise]** SARSA Agent { form-width: \"30%\" }\n",
        "\n",
        "class SarsaAgent(acme.Actor):\n",
        "\n",
        "  def __init__(self,\n",
        "               environment_spec: specs.EnvironmentSpec,\n",
        "               epsilon: float,\n",
        "               step_size: float = 0.1\n",
        "               ):\n",
        "\n",
        "    # Get number of states and actions from the environment spec.\n",
        "    self._num_states = environment_spec.observations.num_values\n",
        "    self._num_actions = environment_spec.actions.num_values\n",
        "\n",
        "    # Create the table of Q-values, all initialized at zero.\n",
        "    self._q = np.zeros((self._num_states, self._num_actions))\n",
        "\n",
        "    # Store algorithm hyper-parameters.\n",
        "    self._step_size = step_size\n",
        "    self._epsilon = epsilon\n",
        "\n",
        "    # Containers you may find useful.\n",
        "    self._state = None\n",
        "    self._action = None\n",
        "    self._next_state = None\n",
        "\n",
        "  @property\n",
        "  def q_values(self):\n",
        "    return self._q\n",
        "\n",
        "  def select_action(self, observation):\n",
        "    return epsilon_greedy(self._q[observation], self._epsilon)\n",
        "\n",
        "  def observe_first(self, timestep):\n",
        "    # Set current state.\n",
        "    self._state = timestep.observation\n",
        "\n",
        "  def observe(self, action, next_timestep):\n",
        "    # Unpacking the timestep to lighten notation.\n",
        "    s = self._state\n",
        "    a = action\n",
        "    r = next_timestep.reward\n",
        "    g = next_timestep.discount\n",
        "    next_s = next_timestep.observation\n",
        "\n",
        "    self._action = a\n",
        "    self._next_state = next_s\n",
        "\n",
        "    #TODO complete the line below to compute the temporal difference error\n",
        "    raise NotImplementedError(\"Student exercise: complete the on-policy Q-value update\")\n",
        "    self._td_error = ...\n",
        "\n",
        "\n",
        "  def update(self):\n",
        "    # ============ YOUR CODE HERE =============\n",
        "    # Q-value table update\n",
        "    pass"
      ],
      "execution_count": null,
      "outputs": []
    },
    {
      "cell_type": "code",
      "source": [
        "#@title **[Solution]** SARSA Agent { form-width: \"30%\" }\n",
        "# class SarsaAgent(acme.Actor):\n",
        "\n",
        "#   def __init__(self,\n",
        "#                environment_spec: specs.EnvironmentSpec,\n",
        "#                epsilon: float,\n",
        "#                step_size: float = 0.1\n",
        "#                ):\n",
        "\n",
        "#     # Get number of states and actions from the environment spec.\n",
        "#     self._num_states = environment_spec.observations.num_values\n",
        "#     self._num_actions = environment_spec.actions.num_values\n",
        "\n",
        "#     # Create the table of Q-values, all initialized at zero.\n",
        "#     self._q = np.zeros((self._num_states, self._num_actions))\n",
        "\n",
        "#     # Store algorithm hyper-parameters.\n",
        "#     self._step_size = step_size\n",
        "#     self._epsilon = epsilon\n",
        "\n",
        "#     # Containers you may find useful.\n",
        "#     self._state = None\n",
        "#     self._action = None\n",
        "#     self._next_state = None\n",
        "\n",
        "#   @property\n",
        "#   def q_values(self):\n",
        "#     return self._q\n",
        "\n",
        "#   def select_action(self, observation):\n",
        "#     return epsilon_greedy(self._q[observation], self._epsilon)\n",
        "\n",
        "#   def observe_first(self, timestep):\n",
        "#     # Set current state.\n",
        "#     self._state = timestep.observation\n",
        "\n",
        "#   def observe(self, action, next_timestep):\n",
        "#     # Unpacking the timestep to lighten notation.\n",
        "#     s = self._state\n",
        "#     a = action\n",
        "#     r = next_timestep.reward\n",
        "#     g = next_timestep.discount\n",
        "#     next_s = next_timestep.observation\n",
        "\n",
        "#     # Compute the action that would be taken from the next state.\n",
        "#     next_a = self.select_action(next_s)\n",
        "\n",
        "#     # Compute the on-policy Q-value update.\n",
        "#     self._action = a\n",
        "#     self._next_state = next_s\n",
        "#     self._td_error = r + g * self._q[next_s, next_a] - self._q[s, a]\n",
        "\n",
        "#   def update(self):\n",
        "#     # Optional unpacking to lighten notation.\n",
        "#     s = self._state\n",
        "#     a = self._action\n",
        "\n",
        "#     # Update the Q-value table value at (s, a).\n",
        "#     self._q[s, a] += self._step_size * self._td_error\n",
        "\n",
        "#     # Update the current state.\n",
        "#     self._state = self._next_state"
      ],
      "metadata": {
        "id": "hLIJpVQt6n5e",
        "cellView": "form"
      },
      "execution_count": null,
      "outputs": []
    },
    {
      "cell_type": "markdown",
      "metadata": {
        "id": "-UHPctIsWyXt"
      },
      "source": [
        "###Exercise 5.2: Run your SARSA agent on the `obstacle` environment\n",
        "\n",
        "This environment is similar to the Cliff-walking example from [Sutton & Barto](http://incompleteideas.net/book/RLbook2018.pdf) and allows us to see the different policies learned by on-policy vs off-policy methods. Try varying the number of steps."
      ]
    },
    {
      "cell_type": "code",
      "metadata": {
        "colab": {
          "base_uri": "https://localhost:8080/",
          "height": 856
        },
        "id": "LsDoRxBMXElr",
        "outputId": "81fc8f2a-ca21-4a43-8782-39048f0183c3",
        "cellView": "form"
      },
      "source": [
        "num_steps = 1e3 #@param {type:\"number\"}\n",
        "epsilon = 1. #@param {type:\"number\"}\n",
        "num_steps = int(num_steps)\n",
        "\n",
        "# Create the environment.\n",
        "grid = build_gridworld_task(task='obstacle')\n",
        "environment, environment_spec = setup_environment(grid)\n",
        "\n",
        "# Create the agent.\n",
        "agent = SarsaAgent(environment_spec, epsilon=epsilon, step_size=0.1)\n",
        "\n",
        "# Run the experiment and get the value functions from agent\n",
        "returns = run_loop(environment=environment, agent=agent, num_steps=num_steps)\n",
        "print('AFTER {0:,} STEPS ...'.format(num_steps))\n",
        "\n",
        "# Get the Q-values and reshape them to recover grid-like structure of states.\n",
        "q_values = agent.q_values\n",
        "grid_shape = grid.layout.shape\n",
        "q_values = q_values.reshape([*grid_shape, -1])\n",
        "\n",
        "# Visualize the value and Q-value tables.\n",
        "plot_action_values(q_values, epsilon=1.)\n",
        "\n",
        "# Visualize the greedy policy.\n",
        "environment.plot_greedy_policy(q_values)"
      ],
      "execution_count": null,
      "outputs": [
        {
          "output_type": "stream",
          "name": "stdout",
          "text": [
            "AFTER 1,000 STEPS ...\n"
          ]
        },
        {
          "output_type": "display_data",
          "data": {
            "text/plain": [
              "<Figure size 576x576 with 10 Axes>"
            ],
            "image/png": "[encoded data removed]"
          },
          "metadata": {
            "image/png": {
              "width": 558,
              "height": 558
            },
            "needs_background": "light"
          }
        },
        {
          "output_type": "display_data",
          "data": {
            "text/plain": [
              "<Figure size 288x288 with 1 Axes>"
            ],
            "image/png": "[encoded data removed]"
          },
          "metadata": {
            "image/png": {
              "width": 270,
              "height": 264
            }
          }
        }
      ]
    },
    {
      "cell_type": "markdown",
      "metadata": {
        "id": "ojrLPmauY74a"
      },
      "source": [
        "##Section 5.2 Off-policy control: Q-learning Agent\n",
        "Reminder: $\\color{green}Q$-learning is a very powerful and general algorithm, that enables control (figuring out the optimal policy/value function) both on and off-policy.\n",
        "\n",
        "**Initialize** $\\color{green}Q(\\color{red}{s}, \\color{blue}{a})$ for all $\\color{red}{s} \\in \\color{red}{\\mathcal{S}}$ and $\\color{blue}{a} \\in \\color{blue}{\\mathcal{A}}$\n",
        "\n",
        "**Loop forever**:\n",
        "\n",
        "1. Get $\\color{red}{s} \\gets{}$current (non-terminal) state\n",
        "\n",
        "2. Select $\\color{blue}{a} \\gets{} \\text{behaviour_policy}(\\color{red}{s})$\n",
        "\n",
        "3. Step in the environment by passing the selected action $\\color{blue}{a}$\n",
        "\n",
        "4. Observe resulting reward $\\color{green}{r}$, discount $\\gamma$, and state, $\\color{red}{s'}$\n",
        "\n",
        "5. Compute the TD error: $\\Delta \\color{green}Q \\gets \\color{green}{r} + \\gamma \\color{green}Q(\\color{red}{s'}, \\color{blue}{a'}) − \\color{green}Q(\\color{red}{s}, \\color{blue}{a})$, <br>\n",
        "where $\\color{blue}{a'} \\gets \\arg\\max_{\\color{blue}{\\mathcal A}} \\color{green}Q(\\color{red}{s'}, \\cdot)$\n",
        "\n",
        "6. Update $\\color{green}Q(\\color{red}{s}, \\color{blue}{a}) \\gets \\color{green}Q(\\color{red}{s}, \\color{blue}{a}) + \\alpha \\Delta \\color{green}Q$\n",
        "\n",
        "Notice that the actions $\\color{blue}{a}$ and $\\color{blue}{a'}$ are not selected using the same policy, hence this algorithm being **off-policy**."
      ]
    },
    {
      "cell_type": "markdown",
      "metadata": {
        "id": "Wcu5MwDQZVmx"
      },
      "source": [
        "###Exercise 5.3a: Implement Q-Learning\n"
      ]
    },
    {
      "cell_type": "code",
      "metadata": {
        "id": "uPaQmfwGZrrd",
        "cellView": "form"
      },
      "source": [
        "#@title **[Exercise]** Q-Learning Agent  { form-width: \"30%\" }\n",
        "\n",
        "QValues = np.ndarray\n",
        "Action = int\n",
        "# A value-based policy takes the Q-values at a state and returns an action.\n",
        "ValueBasedPolicy = Callable[[QValues], Action]\n",
        "\n",
        "class QLearningAgent(acme.Actor):\n",
        "\n",
        "  def __init__(self,\n",
        "               environment_spec: specs.EnvironmentSpec,\n",
        "               behaviour_policy: ValueBasedPolicy,\n",
        "               step_size: float = 0.1,\n",
        "               ):\n",
        "\n",
        "    # Get number of states and actions from the environment spec.\n",
        "    self._num_states = environment_spec.observations.num_values\n",
        "    self._num_actions = environment_spec.actions.num_values\n",
        "\n",
        "    # Create the table of Q-values, all initialized at zero.\n",
        "    self._q = np.zeros((self._num_states, self._num_actions))\n",
        "\n",
        "    # Store algorithm hyper-parameters.\n",
        "    self._step_size = step_size\n",
        "\n",
        "    # Store behavior policy.\n",
        "    self._behaviour_policy = behaviour_policy\n",
        "\n",
        "    # Containers you may find useful.\n",
        "    self._state = None\n",
        "    self._action = None\n",
        "    self._next_state = None\n",
        "\n",
        "  @property\n",
        "  def q_values(self):\n",
        "    return self._q\n",
        "\n",
        "  def select_action(self, observation):\n",
        "    return self._behaviour_policy(self._q[observation])\n",
        "\n",
        "  def observe_first(self, timestep):\n",
        "    self._state = timestep.observation\n",
        "\n",
        "  def observe(self, action, next_timestep):\n",
        "    s = self._state\n",
        "    a = action\n",
        "    r = next_timestep.reward\n",
        "    g = next_timestep.discount\n",
        "    next_s = next_timestep.observation\n",
        "\n",
        "    self._action = a\n",
        "    self._next_state = next_s\n",
        "\n",
        "    #TODO complete the line below to compute the temporal difference error\n",
        "    raise NotImplementedError(\"Student exercise: complete the off-policy Q-value update\")\n",
        "    self._td_error = ...\n",
        "\n",
        "  def update(self):\n",
        "    # Optional unpacking to lighten notation.\n",
        "    s = self._state\n",
        "    a = self._action\n",
        "\n",
        "    # TODO update the appropriate value estimate\n",
        "    raise NotImplementedError(\"Student exercise: complete value update\")\n",
        "\n",
        "    self._q[...] = ...\n",
        "    self._state = self._next_state"
      ],
      "execution_count": null,
      "outputs": []
    },
    {
      "cell_type": "code",
      "metadata": {
        "id": "_R7HoY5XZ61G",
        "cellView": "form"
      },
      "source": [
        "#@title **[Solution]** Q-Learning Agent (click to expand)  { form-width: \"30%\" }\n",
        "\n",
        "# QValues = np.ndarray\n",
        "# Action = int\n",
        "# # A policy takes an observation and returns an action.\n",
        "# ValueBasedPolicy = Callable[[QValues], Action]\n",
        "\n",
        "# class QLearningAgent(acme.Actor):\n",
        "\n",
        "#   def __init__(self,\n",
        "#                environment_spec: specs.EnvironmentSpec,\n",
        "#                behaviour_policy: ValueBasedPolicy,\n",
        "#                step_size: float = 0.1,\n",
        "#                ):\n",
        "\n",
        "#     # Get number of states and actions from the environment spec.\n",
        "#     self._num_states = environment_spec.observations.num_values\n",
        "#     self._num_actions = environment_spec.actions.num_values\n",
        "\n",
        "#     # Create the table of Q-values, all initialized at zero.\n",
        "#     self._q = np.zeros((self._num_states, self._num_actions))\n",
        "\n",
        "#     # Store algorithm hyper-parameters.\n",
        "#     self._step_size = step_size\n",
        "\n",
        "#     # Store behavior policy.\n",
        "#     self._behaviour_policy = behaviour_policy\n",
        "\n",
        "#     # Containers you may find useful.\n",
        "#     self._state = None\n",
        "#     self._action = None\n",
        "#     self._next_state = None\n",
        "\n",
        "#   @property\n",
        "#   def q_values(self):\n",
        "#     return self._q\n",
        "\n",
        "#   def select_action(self, observation):\n",
        "#     return self._behaviour_policy(self._q[observation])\n",
        "\n",
        "#   def observe_first(self, timestep):\n",
        "#     # Set current state.\n",
        "#     self._state = timestep.observation\n",
        "\n",
        "#   def observe(self, action, next_timestep):\n",
        "#     # Unpacking the timestep to lighten notation.\n",
        "#     s = self._state\n",
        "#     a = action\n",
        "#     r = next_timestep.reward\n",
        "#     g = next_timestep.discount\n",
        "#     next_s = next_timestep.observation\n",
        "\n",
        "#     # Compute the TD error.\n",
        "#     self._action = a\n",
        "#     self._next_state = next_s\n",
        "#     self._td_error = r + g * np.max(self._q[next_s]) - self._q[s, a]\n",
        "\n",
        "#   def update(self):\n",
        "#     # Optional unpacking to lighten notation.\n",
        "#     s = self._state\n",
        "#     a = self._action\n",
        "\n",
        "#     # Update the Q-value table value at (s, a).\n",
        "#     self._q[s, a] += self._step_size * self._td_error\n",
        "\n",
        "#     # Update the current state.\n",
        "#     self._state = self._next_state"
      ],
      "execution_count": null,
      "outputs": []
    },
    {
      "cell_type": "markdown",
      "metadata": {
        "id": "bIIHD2bDaznV"
      },
      "source": [
        "###Exercise 5.3b Run your Q-learning agent on the `obstacle` environment\n"
      ]
    },
    {
      "cell_type": "code",
      "metadata": {
        "colab": {
          "base_uri": "https://localhost:8080/",
          "height": 856
        },
        "id": "6lKBICQNayIU",
        "outputId": "c8f30d9b-08cb-491e-ed32-90b9dddb42eb",
        "cellView": "form"
      },
      "source": [
        "epsilon = .5  #@param {type:\"number\"}\n",
        "num_steps = 1e5  #@param {type:\"number\"}\n",
        "num_steps = int(num_steps)\n",
        "\n",
        "# environment\n",
        "grid = build_gridworld_task(task='obstacle')\n",
        "environment, environment_spec = setup_environment(grid)\n",
        "\n",
        "# behavior policy\n",
        "behavior_policy = lambda qval: epsilon_greedy(qval, epsilon=epsilon)\n",
        "\n",
        "# agent\n",
        "agent = QLearningAgent(environment_spec, behavior_policy, step_size=0.1)\n",
        "\n",
        "# run experiment and get the value functions from agent\n",
        "returns = run_loop(environment=environment, agent=agent, num_steps=num_steps)\n",
        "\n",
        "# get the q-values\n",
        "q = agent.q_values.reshape(grid.layout.shape + (4,))\n",
        "\n",
        "# visualize value functions\n",
        "print('AFTER {:,} STEPS ...'.format(num_steps))\n",
        "plot_action_values(q, epsilon=0)\n",
        "\n",
        "# visualise the greedy policy\n",
        "grid.plot_greedy_policy(q)"
      ],
      "execution_count": null,
      "outputs": [
        {
          "output_type": "stream",
          "name": "stdout",
          "text": [
            "AFTER 1,000 STEPS ...\n"
          ]
        },
        {
          "output_type": "display_data",
          "data": {
            "text/plain": [
              "<Figure size 576x576 with 10 Axes>"
            ],
            "image/png": "[encoded data removed]"
          },
          "metadata": {
            "image/png": {
              "width": 558,
              "height": 558
            },
            "needs_background": "light"
          }
        },
        {
          "output_type": "display_data",
          "data": {
            "text/plain": [
              "<Figure size 288x288 with 1 Axes>"
            ],
            "image/png": "[encoded data removed]"
          },
          "metadata": {
            "image/png": {
              "width": 270,
              "height": 264
            }
          }
        }
      ]
    },
    {
      "cell_type": "markdown",
      "metadata": {
        "id": "PqcwheJlbPNB"
      },
      "source": [
        "###Exercise 5.3c: Experiment with different levels of greediness\n",
        "* The default was $\\epsilon=1.$, what does this correspond to?\n",
        "* Try also $\\epsilon =0.1, 0.5$. What do you observe? Does the behaviour policy affect the training in any way?"
      ]
    },
    {
      "cell_type": "markdown",
      "metadata": {
        "id": "UDbrUQcbqPed"
      },
      "source": [
        "<center>\n",
        "<img src=\"https://drive.google.com/uc?id=1XIj68U3eB1bKYfIEHAcVbfwobmMYQQ4X\" width=\"500\" />\n",
        "</center>\n",
        "\n",
        "So far we only considered look-up tables for value-functions. In all previous cases every state and action pair $(\\color{red}{s}, \\color{blue}{a})$, had an entry in our $\\color{green}Q$-table. Again, this is possible in this environment as the number of states is equal to the number of cells in the grid. But this is not scalable to situations where, say, the goal location changes or the obstacles are in different locations at every episode (consider how big the table could be in this situation?).\n",
        "\n",
        "An example (not covered in this tutorial) is ATARI from pixels, where the number of possible frames an agent can see is exponential in the number of pixels on the screen.\n",
        "\n",
        "<center><img width=\"200\" alt=\"portfolio_view\" src=\"https://miro.medium.com/max/1760/1*XyIpmXXAjbXerDzmGQL1yA.gif\"></center>\n",
        "\n",
        "But what we **really** want is just to be able to *compute* the Q-value, when fed with a particular $(\\color{red}{s}, \\color{blue}{a})$ pair. So if we had a way to get a function to do this work instead of keeping a big table, we'd get around this problem.\n",
        "\n",
        "To address this, we can use **function approximation** as a way to generalize Q-values over some representation of the very large state space, and **train** them to output the values they should. In this section, we will explore $\\color{green}Q$-learning with function approximation, which (although it has been theoretically proven to diverge for some degenerate MDPs) can yield impressive results in very large environments. In particular, we will look at [Neural Fitted Q (NFQ) Iteration](http://ml.informatik.uni-freiburg.de/former/_media/publications/rieecml05.pdf) and [Deep Q-Networks (DQN)](https://www.cs.toronto.edu/~vmnih/docs/dqn.pdf).\n",
        "\n"
      ]
    },
    {
      "cell_type": "markdown",
      "metadata": {
        "id": "ueD6H6zSyj6q"
      },
      "source": [
        "# Section 6 Function Approximation"
      ]
    },
    {
      "cell_type": "markdown",
      "metadata": {
        "id": "nvsntgjKy3a0"
      },
      "source": [
        "##Section 6.1 Replay Buffers\n",
        "An important property of off-policy methods like $\\color{green}Q$-learning is that they involve two policies: one for exploration and one that is being optimized (via the $\\color{green}Q$-function updates). This means that we can generate data from the **behavior** policy and insert that data into some form of data storage---usually referred to as **replay**.\n",
        "\n",
        "In order to optimize the $\\color{green}Q$-function we can then sample data from the replay <font color='purple'>**dataset**</font> and use that data to perform an update. An illustration of this learning loop is shown below.\n",
        "\n",
        "<center><img src=\"https://drive.google.com/uc?id=1ivTQBHWkYi_J9vWwXFd2sSWg5f2TB5T-\" width=\"400\" /></center>\n",
        "\n",
        "In the next cell we will show how to implement a simple replay buffer. This can be as simple as a python list containing transition data. In more complicated scenarios we might want to have a more performance-tuned variant, we might have to be more concerned about how large replay is and what to do when its full, and we might want to sample from replay in different ways. But a simple python list can go a surprisingly long way."
      ]
    },
    {
      "cell_type": "code",
      "metadata": {
        "id": "LvsMrIjiyvxn",
        "cellView": "form"
      },
      "source": [
        "#@title Simple replay buffer  { form-width: \"30%\" }\n",
        "\n",
        "# Create a convenient container for the SARS tuples required by deep RL agents.\n",
        "Transitions = collections.namedtuple(\n",
        "    'Transitions', ['state', 'action', 'reward', 'discount', 'next_state'])\n",
        "\n",
        "class ReplayBuffer(object):\n",
        "  \"\"\"A simple Python replay buffer.\"\"\"\n",
        "\n",
        "  def __init__(self, capacity: int = None):\n",
        "    self.buffer = collections.deque(maxlen=capacity)\n",
        "    self._prev_state = None\n",
        "\n",
        "  def add_first(self, initial_timestep: dm_env.TimeStep):\n",
        "    self._prev_state = initial_timestep.observation\n",
        "\n",
        "  def add(self, action: int, timestep: dm_env.TimeStep):\n",
        "    transition = Transitions(\n",
        "        state=self._prev_state,\n",
        "        action=action,\n",
        "        reward=timestep.reward,\n",
        "        discount=timestep.discount,\n",
        "        next_state=timestep.observation,\n",
        "    )\n",
        "    self.buffer.append(transition)\n",
        "    self._prev_state = timestep.observation\n",
        "\n",
        "  def sample(self, batch_size: int) -> Transitions:\n",
        "    # Sample a random batch of Transitions as a list.\n",
        "    batch_as_list = random.sample(self.buffer, batch_size)\n",
        "\n",
        "    # Convert the list of `batch_size` Transitions into a single Transitions\n",
        "    # object where each field has `batch_size` stacked fields.\n",
        "    return tree_utils.stack_sequence_fields(batch_as_list)\n",
        "\n",
        "  def flush(self) -> Transitions:\n",
        "    entire_buffer = tree_utils.stack_sequence_fields(self.buffer)\n",
        "    self.buffer.clear()\n",
        "    return entire_buffer\n",
        "\n",
        "  def is_ready(self, batch_size: int) -> bool:\n",
        "    return batch_size <= len(self.buffer)"
      ],
      "execution_count": null,
      "outputs": []
    },
    {
      "cell_type": "markdown",
      "metadata": {
        "id": "A814spkF2B-K"
      },
      "source": [
        "## Section 6.2: NFQ Agent\n",
        "[Neural Fitted Q Iteration](http://ml.informatik.uni-freiburg.de/former/_media/publications/rieecml05.pdf) was one of the first papers to demonstrate how to leverage recent advances in Deep Learning to approximate the Q-value by a neural network.$^1$\n",
        "In other words, the value $\\color{green}Q(\\color{red}{s}, \\color{blue}{a})$ are approximated by the output of a neural network $\\color{green}{Q_w}(\\color{red}{s}, \\color{blue}{a})$ for each possible action $\\color{blue}{a} \\in \\color{blue}{\\mathcal{A}}$.$^2$\n",
        "\n",
        "When introducing function approximations, and neural networks in particular, we need to have a loss to optimize. But looking back at the tabular setting above, you can see that we already have some notion of error: the **TD error**.\n",
        "\n",
        "By training our neural network to output values such that the *TD error is minimized*, we will also satisfy the Bellman Optimality Equation, which is a good sufficient condition to enforce, to obtain an optimal policy.\n",
        "Thanks to automatic differentiation, we can just write the TD error as a loss, e.g. with an $\\ell^2$ loss, but others would work too:\n",
        "\n",
        "$$L(\\color{green}w) = \\mathbb{E}\\left[ \\left( \\color{green}{r} + \\gamma \\max_\\color{blue}{a'} \\color{green}{Q_w}(\\color{red}{s'}, \\color{blue}{a'}) − \\color{green}{Q_w}(\\color{red}{s}, \\color{blue}{a})  \\right)^2\\right].$$\n",
        "\n",
        "Then we can compute the gradient with respect to the parameters of the neural network and improve our Q-value approximation incrementally.\n",
        "\n",
        "NFQ builds on $\\color{green}Q$-learning, but if one were to update the Q-values online directly, the training can be unstable and very slow.\n",
        "Instead, NFQ uses a replay buffer, similar to what you just implemented above, to update the Q-value in a batched setting.\n",
        "\n",
        "When it was introduced, it also was entirely off-policy using a uniformly random policy to collect data, which was prone to instability when applied to more complex environments (e.g. when the input are pixels or the tasks are longer and more complicated).\n",
        "But it is a good stepping stone to the more complex agents used today. Here, we will look at a slightly different and modernised implementation of NFQ.\n",
        "\n",
        "Below you will find an incomplete NFQ agent that takes in observations from a gridworld. Instead of receiving a tabular state, it receives an observation in the form of its (x,y) coordinates in the gridworld, and the (x,y) coordinates of the goal.\n",
        "<br />\n",
        "\n",
        "---\n",
        "\n",
        "<sub>$^1$ If you read the NFQ paper, they use a \"control\" notation, where there is a \"cost to minimize\", instead of \"rewards to maximize\", so don't be surprised if signs/max/min do not correspond.</sub>\n",
        "\n",
        "<sub>$^2$ We could feed it $\\color{blue}{a}$ as well and ask $Q_w$ for a single scalar value, but given we have a fixed number of actions and we usually need to take an $argmax$ over them, it's easiest to just output them all in one pass.</sub>\n"
      ]
    },
    {
      "cell_type": "markdown",
      "metadata": {
        "id": "5DSlurfX3Ao_"
      },
      "source": [
        "### Exercise 6.1: Implement NFQ"
      ]
    },
    {
      "cell_type": "code",
      "metadata": {
        "id": "ZOXnn5H42BMD",
        "cellView": "form"
      },
      "source": [
        "#@title **[Exercise]** NFQ Agent  { form-width: \"30%\" }\n",
        "\n",
        "# Create a convenient container for the SARS tuples required by NFQ.\n",
        "Transitions = collections.namedtuple(\n",
        "    'Transitions', ['state', 'action', 'reward', 'discount', 'next_state'])\n",
        "\n",
        "class NeuralFittedQAgent(acme.Actor):\n",
        "\n",
        "  def __init__(self,\n",
        "               environment_spec: specs.EnvironmentSpec,\n",
        "               q_network: nn.Module,\n",
        "               replay_capacity: int = 100_000,\n",
        "               epsilon: float = 0.1,\n",
        "               batch_size: int = 1,\n",
        "               learning_rate: float = 3e-4):\n",
        "\n",
        "    # Store agent hyperparameters and network.\n",
        "    self._num_actions = environment_spec.actions.num_values\n",
        "    self._epsilon = epsilon\n",
        "    self._batch_size = batch_size\n",
        "    self._q_network = q_network\n",
        "\n",
        "    # Container for the computed loss (see run_loop implementation above).\n",
        "    self.last_loss = 0.0\n",
        "\n",
        "    # Create the replay buffer.\n",
        "    self._replay_buffer = ReplayBuffer(replay_capacity)\n",
        "\n",
        "    # Setup optimizer that will train the network to minimize the loss.\n",
        "    self._optimizer = torch.optim.Adam(self._q_network.parameters(),lr = learning_rate)\n",
        "    self._loss_fn = nn.MSELoss()\n",
        "\n",
        "  def select_action(self, observation):\n",
        "    # Compute Q-values.\n",
        "    q_values = self._q_network(torch.tensor(observation).unsqueeze(0))  # Adds batch dimension.\n",
        "    q_values = q_values.squeeze(0)   # Removes batch dimension\n",
        "\n",
        "    # Select epsilon-greedy action.\n",
        "    if self._epsilon < torch.rand(1):\n",
        "      action = q_values.argmax(axis=-1)\n",
        "    else:\n",
        "      action = torch.randint(low=0, high=self._num_actions , size=(1,), dtype=torch.int64)\n",
        "    return action\n",
        "\n",
        "  def q_values(self, observation):\n",
        "    q_values = self._q_network(torch.tensor(observation).unsqueeze(0))\n",
        "    return q_values.squeeze(0).detach()\n",
        "\n",
        "  def update(self):\n",
        "\n",
        "    if not self._replay_buffer.is_ready(self._batch_size):\n",
        "      # If the replay buffer is not ready to sample from, do nothing.\n",
        "      return\n",
        "\n",
        "    # Sample a minibatch of transitions from experience replay.\n",
        "    transitions = self._replay_buffer.sample(self._batch_size)\n",
        "\n",
        "    # Note: each of these tensors will be of shape [batch_size, ...].\n",
        "    s = torch.tensor(transitions.state)\n",
        "    a = torch.tensor(transitions.action,dtype=torch.int64)\n",
        "    r = torch.tensor(transitions.reward)\n",
        "    d = torch.tensor(transitions.discount)\n",
        "    next_s = torch.tensor(transitions.next_state)\n",
        "\n",
        "    # Compute the Q-values at next states in the transitions.\n",
        "    with torch.no_grad():\n",
        "      q_next_s = self._q_network(next_s)  # Shape [batch_size, num_actions].\n",
        "      max_q_next_s = q_next_s.max(axis=-1)[0]\n",
        "      # Compute the TD error and then the losses.\n",
        "      target_q_value = r + d * max_q_next_s\n",
        "\n",
        "    # Compute the Q-values at original state.\n",
        "    q_s = self._q_network(s)\n",
        "\n",
        "    # Gather the Q-value corresponding to each action in the batch.\n",
        "    q_s_a = q_s.gather(1, a.view(-1,1)).squeeze(0)\n",
        "\n",
        "\n",
        "    raise NotImplementedError(\"Student exercise: complete the NFQ Agent\")\n",
        "\n",
        "    # TODO Average the squared TD errors over the entire batch (axis=0).\n",
        "    loss = ...\n",
        "\n",
        "    # Compute the gradients of the loss with respect to the q_network variables.\n",
        "    self._optimizer.zero_grad()\n",
        "\n",
        "    loss.backward()\n",
        "    # Apply the gradient update.\n",
        "    self._optimizer.step()\n",
        "\n",
        "    # Store the loss for logging purposes (see run_loop implementation above).\n",
        "    self.last_loss = loss.detach().numpy()\n",
        "\n",
        "  def observe_first(self, timestep: dm_env.TimeStep):\n",
        "    self._replay_buffer.add_first(timestep)\n",
        "\n",
        "  def observe(self, action: int, next_timestep: dm_env.TimeStep):\n",
        "    self._replay_buffer.add(action, next_timestep)"
      ],
      "execution_count": null,
      "outputs": []
    },
    {
      "cell_type": "code",
      "metadata": {
        "id": "k3GpjbRQ3Duv",
        "cellView": "form"
      },
      "source": [
        "#@title **[Solution]** NFQ Agent (click to expand)  { form-width: \"30%\" }\n",
        "\n",
        "# # Create a convenient container for the SARS tuples required by NFQ.\n",
        "# Transitions = collections.namedtuple(\n",
        "#     'Transitions', ['state', 'action', 'reward', 'discount', 'next_state'])\n",
        "\n",
        "# class NeuralFittedQAgent(acme.Actor):\n",
        "\n",
        "#   def __init__(self,\n",
        "#                environment_spec: specs.EnvironmentSpec,\n",
        "#                q_network: nn.Module,\n",
        "#                replay_capacity: int = 100_000,\n",
        "#                epsilon: float = 0.1,\n",
        "#                batch_size: int = 1,\n",
        "#                learning_rate: float = 3e-4):\n",
        "\n",
        "#     # Store agent hyperparameters and network.\n",
        "#     self._num_actions = environment_spec.actions.num_values\n",
        "#     self._epsilon = epsilon\n",
        "#     self._batch_size = batch_size\n",
        "#     self._q_network = q_network\n",
        "\n",
        "#     # Container for the computed loss (see run_loop implementation above).\n",
        "#     self.last_loss = 0.0\n",
        "\n",
        "#     # Create the replay buffer.\n",
        "#     self._replay_buffer = ReplayBuffer(replay_capacity)\n",
        "\n",
        "#     # Setup optimizer that will train the network to minimize the loss.\n",
        "#     self._optimizer = torch.optim.Adam(self._q_network.parameters(),lr = learning_rate)\n",
        "#     self._loss_fn = nn.MSELoss()\n",
        "\n",
        "#   def select_action(self, observation):\n",
        "#     # Compute Q-values.\n",
        "#     q_values = self._q_network(torch.tensor(observation).unsqueeze(0))  # Adds batch dimension.\n",
        "#     q_values = q_values.squeeze(0)   # Removes batch dimension\n",
        "\n",
        "#     # Select epsilon-greedy action.\n",
        "#     if self._epsilon < torch.rand(1):\n",
        "#       action = q_values.argmax(axis=-1)\n",
        "#     else:\n",
        "#       action = torch.randint(low=0, high=self._num_actions , size=(1,), dtype=torch.int64)\n",
        "#     return action\n",
        "\n",
        "#   def q_values(self, observation):\n",
        "#     q_values = self._q_network(torch.tensor(observation).unsqueeze(0))\n",
        "#     return q_values.squeeze(0).detach()\n",
        "\n",
        "#   def update(self):\n",
        "#     if not self._replay_buffer.is_ready(self._batch_size):\n",
        "#       # If the replay buffer is not ready to sample from, do nothing.\n",
        "#       return\n",
        "\n",
        "#     # Sample a minibatch of transitions from experience replay.\n",
        "#     transitions = self._replay_buffer.sample(self._batch_size)\n",
        "\n",
        "#     # Optionally unpack the transitions to lighten notation.\n",
        "#     # Note: each of these tensors will be of shape [batch_size, ...].\n",
        "#     s = torch.tensor(transitions.state)\n",
        "#     a = torch.tensor(transitions.action, dtype=torch.int64)\n",
        "#     r = torch.tensor(transitions.reward)\n",
        "#     d = torch.tensor(transitions.discount)\n",
        "#     next_s = torch.tensor(transitions.next_state)\n",
        "\n",
        "\n",
        "#     # Compute the Q-values at next states in the transitions.\n",
        "#     with torch.no_grad():\n",
        "#       q_next_s = self._q_network(next_s)  # Shape [batch_size, num_actions].\n",
        "#       max_q_next_s = q_next_s.max(axis=-1)[0]\n",
        "#       # Compute the TD error and then the losses.\n",
        "#       target_q_value = r + d * max_q_next_s\n",
        "\n",
        "#     # Compute the Q-values at original state.\n",
        "#     q_s = self._q_network(s)\n",
        "\n",
        "#     # Gather the Q-value corresponding to each action in the batch.\n",
        "#     q_s_a = q_s.gather(1, a.view(-1,1)).squeeze(0)\n",
        "\n",
        "#     #Note: td_error = target_q_value - q_s_a\n",
        "\n",
        "#      # ============ SOLUTION =============\n",
        "\n",
        "#     # Average the squared TD errors over the entire batch (axis=0).\n",
        "\n",
        "#     loss = self._loss_fn(target_q_value, q_s_a)\n",
        "\n",
        "#     # Compute the gradients of the loss with respect to the q_network variables.\n",
        "#     self._optimizer.zero_grad()\n",
        "\n",
        "#     loss.backward()\n",
        "#     # Apply the gradient update.\n",
        "#     self._optimizer.step()\n",
        "\n",
        "#     # Store the loss for logging purposes (see run_loop implementation above).\n",
        "#     self.last_loss = loss.detach().numpy()\n",
        "\n",
        "#   def observe_first(self, timestep: dm_env.TimeStep):\n",
        "#     self._replay_buffer.add_first(timestep)\n",
        "\n",
        "#   def observe(self, action: int, next_timestep: dm_env.TimeStep):\n",
        "#     self._replay_buffer.add(int(action), next_timestep)"
      ],
      "execution_count": null,
      "outputs": []
    },
    {
      "cell_type": "markdown",
      "metadata": {
        "id": "o9xYfpMn4C9V"
      },
      "source": [
        "### Exercise 6.2: Train and Evaluate the NFQ Agent\n"
      ]
    },
    {
      "cell_type": "code",
      "metadata": {
        "id": "ql9wucro_VKD",
        "cellView": "form"
      },
      "source": [
        "#@title Training the NFQ Agent.  { form-width: \"30%\" }\n",
        "epsilon = 0.5 # @param {type:\"number\"}\n",
        "\n",
        "max_episode_length = 200 # @param {type:\"number\"}\n",
        "\n",
        "# Create the environment.\n",
        "grid = build_gridworld_task(\n",
        "    task='simple',\n",
        "    observation_type=ObservationType.AGENT_GOAL_POS,\n",
        "    max_episode_length=max_episode_length)\n",
        "environment, environment_spec = setup_environment(grid)\n",
        "\n",
        "# Define the neural function approximator (aka Q network).\n",
        "\n",
        "#tf\n",
        "#q_network = snt.Sequential([\n",
        "#    snt.nets.MLP([50, 50, environment_spec.actions.num_values])\n",
        "#])\n",
        "\n",
        "# pytorch\n",
        "q_network = nn.Sequential(nn.Linear(4,50),\n",
        "                          nn.ReLU(),\n",
        "                          nn.Linear(50,50),\n",
        "                          nn.ReLU(),\n",
        "                          nn.Linear(50, environment_spec.actions.num_values))\n",
        "# Build the trainable Q-learning agent\n",
        "agent = NeuralFittedQAgent(\n",
        "    environment_spec,\n",
        "    q_network,\n",
        "    epsilon=epsilon,\n",
        "    replay_capacity=100_000,\n",
        "    batch_size=10,\n",
        "    learning_rate=1e-3)\n",
        "\n",
        "returns = run_loop(\n",
        "    environment=environment,\n",
        "    agent=agent,\n",
        "    num_episodes=100,\n",
        "    logger_time_delta=1.,\n",
        "    log_loss=True)"
      ],
      "execution_count": null,
      "outputs": []
    },
    {
      "cell_type": "code",
      "metadata": {
        "colab": {
          "base_uri": "https://localhost:8080/",
          "height": 348
        },
        "id": "kmAYibB54LGR",
        "outputId": "2ef3df9d-a150-431e-92d4-3c5e354f9fbe",
        "cellView": "form"
      },
      "source": [
        "#@title Evaluating the agent.  { form-width: \"30%\" }\n",
        "\n",
        "# Temporarily change epsilon to be more greedy; remember to change it back.\n",
        "agent._epsilon = 0.05\n",
        "\n",
        "# Record a few episodes.\n",
        "frames = evaluate(environment, agent, evaluation_episodes=5)\n",
        "\n",
        "# Change epsilon back.\n",
        "agent._epsilon = epsilon\n",
        "\n",
        "# Display the video of the episodes.\n",
        "display_video(frames, frame_rate=6)"
      ],
      "execution_count": null,
      "outputs": [
        {
          "output_type": "stream",
          "name": "stdout",
          "text": [
            "Episode 0 ended with reward 10.0 in 5 steps\n",
            "Episode 1 ended with reward 10.0 in 5 steps\n",
            "Episode 2 ended with reward 10.0 in 5 steps\n",
            "Episode 3 ended with reward 10.0 in 7 steps\n",
            "Episode 4 ended with reward 10.0 in 5 steps\n"
          ]
        },
        {
          "output_type": "execute_result",
          "data": {
            "text/plain": [
              "<IPython.core.display.HTML object>"
            ],
            "text/html": [
              "<video  width=\"320\" height=\"240\" controls alt=\"test\" src=\"data:video/mp4;base64,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\">"
            ]
          },
          "metadata": {},
          "execution_count": 49
        }
      ]
    },
    {
      "cell_type": "code",
      "metadata": {
        "colab": {
          "base_uri": "https://localhost:8080/",
          "height": 574
        },
        "id": "Xc-LBQ9T4PTF",
        "outputId": "9fb7eeef-9080-4a1a-ce61-f0a340b64e2a",
        "cellView": "form"
      },
      "source": [
        "#@title Visualise the learned Q values { form-width: \"30%\" }\n",
        "\n",
        "# Evaluate the policy for every state, similar to tabular agents above.\n",
        "\n",
        "environment.reset()\n",
        "pi = np.zeros(grid._layout_dims, dtype=np.int32)\n",
        "q = np.zeros(grid._layout_dims + (4,))\n",
        "for y in range(grid._layout_dims[0]):\n",
        "  for x in range(grid._layout_dims[1]):\n",
        "    # Hack observation to see what the Q-network would output at that point.\n",
        "    environment.set_state(x, y)\n",
        "    obs = environment.get_obs()\n",
        "    q[y, x] = np.asarray(agent.q_values(obs))\n",
        "    pi[y, x] = np.asarray(agent.select_action(obs))\n",
        "\n",
        "plot_action_values(q)\n"
      ],
      "execution_count": null,
      "outputs": [
        {
          "output_type": "display_data",
          "data": {
            "text/plain": [
              "<Figure size 576x576 with 10 Axes>"
            ],
            "image/png": "[encoded data removed]"
          },
          "metadata": {
            "image/png": {
              "width": 558,
              "height": 557
            },
            "needs_background": "light"
          }
        }
      ]
    },
    {
      "cell_type": "markdown",
      "metadata": {
        "id": "OHzNUc4Q4dtt"
      },
      "source": [
        "### Compare the greedy and behaviour ($\\epsilon$-greedy) policies\n",
        "\n",
        "Notice that the behaviour policy randomly flips arrows to random directions."
      ]
    },
    {
      "cell_type": "code",
      "metadata": {
        "colab": {
          "base_uri": "https://localhost:8080/",
          "height": 545
        },
        "id": "jBIKBw0U4ii_",
        "outputId": "f9afa0a1-7578-45f7-a0e8-cf6da9aa3663"
      },
      "source": [
        "environment.plot_greedy_policy(q)\n",
        "plt.title('Greedy policy using the learnt Q-values')\n",
        "\n",
        "environment.plot_policy(pi)\n",
        "plt.title(\"Policy using the agent's behaviour policy\");"
      ],
      "execution_count": null,
      "outputs": [
        {
          "output_type": "display_data",
          "data": {
            "text/plain": [
              "<Figure size 288x288 with 1 Axes>"
            ],
            "image/png": "[encoded data removed]"
          },
          "metadata": {
            "image/png": {
              "width": 371,
              "height": 264
            }
          }
        },
        {
          "output_type": "display_data",
          "data": {
            "text/plain": [
              "<Figure size 288x288 with 1 Axes>"
            ],
            "image/png": "[encoded data removed]"
          },
          "metadata": {
            "image/png": {
              "width": 382,
              "height": 264
            }
          }
        }
      ]
    },
    {
      "cell_type": "markdown",
      "metadata": {
        "id": "PplRWHb444M1"
      },
      "source": [
        "# Section 7: DQN"
      ]
    },
    {
      "cell_type": "markdown",
      "metadata": {
        "id": "jFjL3W-a90_N"
      },
      "source": [
        "\n",
        "<!-- <center><img src=\"https://drive.google.com/uc?id=1ivTQBHWkYi_J9vWwXFd2sSWg5f2TB5T-\" width=\"500\" /></center>  -->\n",
        "\n",
        "<center><img src=\"https://media.springernature.com/full/springer-static/image/art%3A10.1038%2Fnature14236/MediaObjects/41586_2015_Article_BFnature14236_Fig1_HTML.jpg\" width=\"500\" /></center>\n",
        "\n",
        "In this section, we will look at an advanced deep RL Agent based on the following publication, [Playing Atari with Deep Reinforcement Learning](https://deepmind.com/research/publications/playing-atari-deep-reinforcement-learning), which introduced the first deep learning model to successfully learn control policies directly from high-dimensional pixel inputs using RL.\n",
        "\n",
        "Here the agent will act directly on a pixel representation of the gridworld. You can find an incomplete implementation below.\n",
        "\n"
      ]
    },
    {
      "cell_type": "markdown",
      "metadata": {
        "id": "K3EcOa-v_Ae9"
      },
      "source": [
        "### Exercise 7.1: Run a DQN Agent\n"
      ]
    },
    {
      "cell_type": "code",
      "metadata": {
        "id": "6T7wSq8_-br_",
        "cellView": "form"
      },
      "source": [
        "#@title **[Exercise]** DQN Agent  { form-width: \"30%\" }\n",
        "\n",
        "# Create a convenient container for the SARS tuples required by NFQ.\n",
        "import copy\n",
        "Transitions = collections.namedtuple(\n",
        "    'Transitions', ['state', 'action', 'reward', 'discount', 'next_state'])\n",
        "\n",
        "class DQN(acme.Actor):\n",
        "\n",
        "  def __init__(self,\n",
        "               environment_spec: specs.EnvironmentSpec,\n",
        "               network: nn.Module,\n",
        "               replay_capacity: int = 100_000,\n",
        "               epsilon: float = 0.1,\n",
        "               batch_size: int = 1,\n",
        "               learning_rate: float = 5e-4,\n",
        "               target_update_frequency: int = 10):\n",
        "\n",
        "    # Store agent hyperparameters and network.\n",
        "    self._num_actions = environment_spec.actions.num_values\n",
        "    self._epsilon = epsilon\n",
        "    self._batch_size = batch_size\n",
        "    self._q_network = q_network\n",
        "    self._target_network = copy.deepcopy(self._q_network)\n",
        "    # Container for the computed loss (see run_loop implementation above).\n",
        "    self.last_loss = 0.0\n",
        "\n",
        "    # Create the replay buffer.\n",
        "    self._replay_buffer = ReplayBuffer(replay_capacity)\n",
        "    # Keep an internal tracker of steps\n",
        "    self._current_step = 0\n",
        "\n",
        "    # How often to update the target network\n",
        "    self._target_update_frequency = target_update_frequency\n",
        "    # Setup optimizer that will train the network to minimize the loss.\n",
        "    self._optimizer = torch.optim.Adam(self._q_network.parameters(),lr = learning_rate)\n",
        "    self._loss_fn = nn.MSELoss()\n",
        "\n",
        "  def select_action(self, observation):\n",
        "    # Compute Q-values.\n",
        "    # Sonnet requires a batch dimension, which we squeeze out right after.\n",
        "    q_values = self._q_network(torch.tensor(observation).unsqueeze(0))  # Adds batch dimension.\n",
        "    q_values = q_values.squeeze(0)   # Removes batch dimension\n",
        "\n",
        "    # Select epsilon-greedy action.\n",
        "    if self._epsilon < torch.rand(1):\n",
        "      action = q_values.argmax(axis=-1)\n",
        "    else:\n",
        "      action = torch.randint(low=0, high=self._num_actions , size=(1,), dtype=torch.int64)\n",
        "    return action\n",
        "\n",
        "  def q_values(self, observation):\n",
        "    q_values = self._q_network(torch.tensor(observation).unsqueeze(0))\n",
        "    return q_values.squeeze(0).detach()\n",
        "\n",
        "  def update(self):\n",
        "    self._current_step += 1\n",
        "\n",
        "    if not self._replay_buffer.is_ready(self._batch_size):\n",
        "      # If the replay buffer is not ready to sample from, do nothing.\n",
        "      return\n",
        "\n",
        "    # Sample a minibatch of transitions from experience replay.\n",
        "    transitions = self._replay_buffer.sample(self._batch_size)\n",
        "\n",
        "    # Optionally unpack the transitions to lighten notation.\n",
        "    # Note: each of these tensors will be of shape [batch_size, ...].\n",
        "    s = torch.tensor(transitions.state)\n",
        "    a = torch.tensor(transitions.action,dtype=torch.int64)\n",
        "    r = torch.tensor(transitions.reward)\n",
        "    d = torch.tensor(transitions.discount)\n",
        "    next_s = torch.tensor(transitions.next_state)\n",
        "\n",
        "    # Compute the Q-values at next states in the transitions.\n",
        "    with torch.no_grad():\n",
        "\n",
        "      raise NotImplementedError(\"Student exercise: complete the DQN Agent\")\n",
        "      #TODO get the value of the next states evaluated by the target network\n",
        "      q_next_s = ...  # Shape [batch_size, num_actions].\n",
        "\n",
        "      max_q_next_s = q_next_s.max(axis=-1)[0]\n",
        "      # Compute the TD error and then the losses.\n",
        "      # TODO compute the target value\n",
        "      target_q_value = ...\n",
        "\n",
        "    # Compute the Q-values at original state.\n",
        "    q_s = self._q_network(s)\n",
        "\n",
        "    # Gather the Q-value corresponding to each action in the batch.\n",
        "    q_s_a = q_s.gather(1, a.view(-1,1)).squeeze(0)\n",
        "    # Compute the TD errors.\n",
        "    #td_error = target_q_value - q_s_a\n",
        "\n",
        "    # Average the squared TD errors over the entire batch (axis=0).\n",
        "    loss = self._loss_fn(target_q_value, q_s_a)\n",
        "\n",
        "    # Compute the gradients of the loss with respect to the q_network variables.\n",
        "    self._optimizer.zero_grad()\n",
        "\n",
        "    loss.backward()\n",
        "    # Apply the gradient update.\n",
        "    self._optimizer.step()\n",
        "\n",
        "    if self._current_step % self._target_update_frequency == 0:\n",
        "      self._target_network.load_state_dict(self._q_network.state_dict())\n",
        "    # Store the loss for logging purposes (see run_loop implementation above).\n",
        "    self.last_loss = loss.detach().numpy()\n",
        "\n",
        "  def observe_first(self, timestep: dm_env.TimeStep):\n",
        "    self._replay_buffer.add_first(timestep)\n",
        "\n",
        "  def observe(self, action: int, next_timestep: dm_env.TimeStep):\n",
        "    self._replay_buffer.add(action, next_timestep)"
      ],
      "execution_count": null,
      "outputs": []
    },
    {
      "cell_type": "code",
      "metadata": {
        "id": "M2myc_u_ltOZ"
      },
      "source": [
        "#@title **[Solution]** DQN Agent (click to expand) { form-width: \"30%\" }\n",
        "\n",
        "# # Create a convenient container for the SARS tuples required by NFQ.\n",
        "# import copy\n",
        "# Transitions = collections.namedtuple(\n",
        "#     'Transitions', ['state', 'action', 'reward', 'discount', 'next_state'])\n",
        "\n",
        "# class DQN(acme.Actor):\n",
        "\n",
        "#   def __init__(self,\n",
        "#                environment_spec: specs.EnvironmentSpec,\n",
        "#                network: nn.Module,\n",
        "#                replay_capacity: int = 100_000,\n",
        "#                epsilon: float = 0.1,\n",
        "#                batch_size: int = 1,\n",
        "#                learning_rate: float = 5e-4,\n",
        "#                target_update_frequency: int = 10):\n",
        "\n",
        "#     # Store agent hyperparameters and network.\n",
        "#     self._num_actions = environment_spec.actions.num_values\n",
        "#     self._epsilon = epsilon\n",
        "#     self._batch_size = batch_size\n",
        "#     self._q_network = q_network\n",
        "#     self._target_network = copy.deepcopy(self._q_network)\n",
        "#     # Container for the computed loss (see run_loop implementation above).\n",
        "#     self.last_loss = 0.0\n",
        "\n",
        "#     # Create the replay buffer.\n",
        "#     self._replay_buffer = ReplayBuffer(replay_capacity)\n",
        "#     # Keep an internal tracker of steps\n",
        "#     self._current_step = 0\n",
        "\n",
        "#     # How often to update the target network\n",
        "#     self._target_update_frequency = target_update_frequency\n",
        "#     # Setup optimizer that will train the network to minimize the loss.\n",
        "#     self._optimizer = torch.optim.Adam(self._q_network.parameters(),lr = learning_rate)\n",
        "#     self._loss_fn = nn.MSELoss()\n",
        "\n",
        "#   def select_action(self, observation):\n",
        "#     # Compute Q-values.\n",
        "#     # Sonnet requires a batch dimension, which we squeeze out right after.\n",
        "#     q_values = self._q_network(torch.tensor(observation).unsqueeze(0))  # Adds batch dimension.\n",
        "#     q_values = q_values.squeeze(0)   # Removes batch dimension\n",
        "\n",
        "#     # Select epsilon-greedy action.\n",
        "#     if self._epsilon < torch.rand(1):\n",
        "#       action = q_values.argmax(axis=-1)\n",
        "#     else:\n",
        "#       action = torch.randint(low=0, high=self._num_actions , size=(1,), dtype=torch.int64)\n",
        "#     return action\n",
        "\n",
        "#   def q_values(self, observation):\n",
        "#     q_values = self._q_network(torch.tensor(observation).unsqueeze(0))\n",
        "#     return q_values.squeeze(0).detach()\n",
        "\n",
        "#   def update(self):\n",
        "#     self._current_step += 1\n",
        "\n",
        "#     if not self._replay_buffer.is_ready(self._batch_size):\n",
        "#       # If the replay buffer is not ready to sample from, do nothing.\n",
        "#       return\n",
        "\n",
        "#     # Sample a minibatch of transitions from experience replay.\n",
        "#     transitions = self._replay_buffer.sample(self._batch_size)\n",
        "\n",
        "#     # Optionally unpack the transitions to lighten notation.\n",
        "#     # Note: each of these tensors will be of shape [batch_size, ...].\n",
        "#     s = torch.tensor(transitions.state)\n",
        "#     a = torch.tensor(transitions.action, dtype=torch.int64)\n",
        "#     r = torch.tensor(transitions.reward)\n",
        "#     d = torch.tensor(transitions.discount)\n",
        "#     next_s = torch.tensor(transitions.next_state)\n",
        "\n",
        "#     # Compute the Q-values at next states in the transitions.\n",
        "#     with torch.no_grad():\n",
        "#       q_next_s = self._target_network(next_s)  # Shape [batch_size, num_actions].\n",
        "#       max_q_next_s = q_next_s.max(axis=-1)[0]\n",
        "#       # Compute the TD error and then the losses.\n",
        "#       target_q_value = r + d * max_q_next_s\n",
        "\n",
        "#     # Compute the Q-values at original state.\n",
        "#     q_s = self._q_network(s)\n",
        "\n",
        "#     # Gather the Q-value corresponding to each action in the batch.\n",
        "#     q_s_a = q_s.gather(1, a.view(-1,1)).squeeze(0)\n",
        "#     # Compute the TD errors.\n",
        "#     #td_error = target_q_value - q_s_a\n",
        "\n",
        "#     # Average the squared TD errors over the entire batch (axis=0).\n",
        "#     loss = self._loss_fn(target_q_value, q_s_a)\n",
        "\n",
        "#     # Compute the gradients of the loss with respect to the q_network variables.\n",
        "#     self._optimizer.zero_grad()\n",
        "\n",
        "#     loss.backward()\n",
        "#     # Apply the gradient update.\n",
        "#     self._optimizer.step()\n",
        "\n",
        "#     if self._current_step % self._target_update_frequency == 0:\n",
        "#       self._target_network.load_state_dict(self._q_network.state_dict())\n",
        "#     # Store the loss for logging purposes (see run_loop implementation above).\n",
        "#     self.last_loss = loss.detach().numpy()\n",
        "\n",
        "#   def observe_first(self, timestep: dm_env.TimeStep):\n",
        "#     self._replay_buffer.add_first(timestep)\n",
        "\n",
        "#   def observe(self, action: int, next_timestep: dm_env.TimeStep):\n",
        "#     self._replay_buffer.add(int(action), next_timestep)"
      ],
      "execution_count": null,
      "outputs": []
    },
    {
      "cell_type": "code",
      "metadata": {
        "id": "306F41DM_qS2",
        "cellView": "form"
      },
      "source": [
        "#@title Train and evaluate the DQN agent { form-width: \"30%\" }\n",
        "epsilon = 0.25  # @param {type: \"number\"}\n",
        "\n",
        "\n",
        "grid = build_gridworld_task(\n",
        "    task='simple',\n",
        "    observation_type=ObservationType.GRID,\n",
        "    max_episode_length=200)\n",
        "environment, environment_spec = setup_environment(grid)\n",
        "\n",
        "# Build the agent's network.\n",
        "class Permute(nn.Module):\n",
        "    def __init__(self, order: list):\n",
        "        super(Permute,self).__init__()\n",
        "        self.order = order\n",
        "\n",
        "    def forward(self, x):\n",
        "        return x.permute(self.order)\n",
        "\n",
        "q_network = nn.Sequential(Permute([0,3,1,2]),\n",
        "                          nn.Conv2d(3, 32, kernel_size=4, stride=2,padding=1),\n",
        "                          nn.ReLU(),\n",
        "                          nn.Conv2d(32, 64, kernel_size=3, stride=1, padding=1),\n",
        "                          nn.ReLU(),\n",
        "                          nn.MaxPool2d(3, 1),\n",
        "                          nn.Flatten(),\n",
        "                          nn.Linear(384,50),\n",
        "                          nn.ReLU(),\n",
        "                          nn.Linear(50, environment_spec.actions.num_values)\n",
        "                          )\n",
        "\n",
        "agent = DQN(\n",
        "    environment_spec=environment_spec,\n",
        "    network=q_network,\n",
        "    batch_size=10,\n",
        "    epsilon=epsilon,\n",
        "    target_update_frequency=25)\n",
        "\n",
        "returns = run_loop(\n",
        "    environment=environment,\n",
        "    agent=agent,\n",
        "    num_episodes=1000,\n",
        "    num_steps=100_000)\n"
      ],
      "execution_count": null,
      "outputs": []
    },
    {
      "cell_type": "code",
      "metadata": {
        "colab": {
          "base_uri": "https://localhost:8080/",
          "height": 574
        },
        "id": "PCXKdAEQAemQ",
        "outputId": "0a645f81-7a3c-4d33-abb2-654f071bcfba",
        "cellView": "form"
      },
      "source": [
        "# @title Visualise the learned Q values  { form-width: \"30%\" }\n",
        "\n",
        "# Evaluate the policy for every state, similar to tabular agents above.\n",
        "pi = np.zeros(grid._layout_dims, dtype=np.int32)\n",
        "q = np.zeros(grid._layout_dims + (4,))\n",
        "for y in range(grid._layout_dims[0]):\n",
        "  for x in range(grid._layout_dims[1]):\n",
        "    # Hack observation to see what the Q-network would output at that point.\n",
        "    environment.set_state(x, y)\n",
        "    obs = environment.get_obs()\n",
        "    q[y, x] = np.asarray(agent.q_values(obs))\n",
        "    pi[y, x] = np.asarray(agent.select_action(obs))\n",
        "\n",
        "plot_action_values(q)\n"
      ],
      "execution_count": null,
      "outputs": [
        {
          "output_type": "display_data",
          "data": {
            "text/plain": [
              "<Figure size 576x576 with 10 Axes>"
            ],
            "image/png": "[encoded data removed]"
          },
          "metadata": {
            "image/png": {
              "width": 558,
              "height": 557
            },
            "needs_background": "light"
          }
        }
      ]
    },
    {
      "cell_type": "code",
      "metadata": {
        "colab": {
          "base_uri": "https://localhost:8080/",
          "height": 545
        },
        "id": "RCuHml8RAkBB",
        "outputId": "5551eed7-afb0-4aea-fbd0-f5bee8c0f5f0",
        "cellView": "form"
      },
      "source": [
        "#@title Compare the greedy policy with the agent's policy { form-width: \"30%\" }\n",
        "\n",
        "environment.plot_greedy_policy(q)\n",
        "plt.title('Greedy policy using the learnt Q-values')\n",
        "\n",
        "environment.plot_policy(pi)\n",
        "plt.title(\"Policy using the agent's epsilon-greedy policy\");"
      ],
      "execution_count": null,
      "outputs": [
        {
          "output_type": "display_data",
          "data": {
            "text/plain": [
              "<Figure size 288x288 with 1 Axes>"
            ],
            "image/png": "[encoded data removed]"
          },
          "metadata": {
            "image/png": {
              "width": 371,
              "height": 264
            }
          }
        },
        {
          "output_type": "display_data",
          "data": {
            "text/plain": [
              "<Figure size 288x288 with 1 Axes>"
            ],
            "image/png": "[encoded data removed]"
          },
          "metadata": {
            "image/png": {
              "width": 425,
              "height": 264
            }
          }
        }
      ]
    },
    {
      "cell_type": "markdown",
      "metadata": {
        "id": "y2JVye83Aj0g"
      },
      "source": [
        "\n",
        "# Want to Do More?\n",
        "Policy Gradient Methods\n",
        "* NeuroMatch Tutorial [[Feryal Behbahani + Jane Wang](https://compneuro.neuromatch.io/tutorials/intro.html)]\n",
        "* EEML 2020 RL Tutorial [[Diana Borsa + Gheorghe Comanici](https://colab.research.google.com/github/eemlcommunity/PracticalSessions2020/blob/master/rl/EEML2020_RL_Tutorial.ipynb)]"
      ]
    }
  ]
}